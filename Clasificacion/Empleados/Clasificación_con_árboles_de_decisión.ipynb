{
  "cells": [
    {
      "cell_type": "markdown",
      "metadata": {
        "id": "mjUlTkwCszcJ"
      },
      "source": [
        "![image.png](attachment:image.png)"
      ]
    },
    {
      "cell_type": "markdown",
      "metadata": {
        "id": "Smp-XpfSszcL"
      },
      "source": [
        "## Tarea de clasificación.\n",
        "\n",
        "El objetivo de este notebook es mostrar cómo resolver una tarea de clasificación utilizando la librería scikit-learn. Tomaremos como caso de estudio el conjunto de empleados y veremos cómo realizar la preparación de los datos para el algoritmo de árboles de decisión. También conocerás algunas métricas para evaluar un modelo de clasificación y cómo estimar su capacidad de generalización. Además, veremos cómo ajustar los hiperparámetros del algoritmo con técnicas de validación.\n",
        "Se explicará paso a paso:\n",
        "\n",
        "1. Preparar los datos para el modelado.\n",
        "2. Crear un modelo de árbol de decisión.\n",
        "3. Utilizar técnicas de validación para el ajuste de hiperparámetros propios de árboles de decisión.\n",
        "4. Evaluar el modelo.\n",
        "5. Interpretar el modelo con base en los objetivos de negocio."
      ]
    },
    {
      "cell_type": "markdown",
      "metadata": {
        "id": "uxGsNGowszcM"
      },
      "source": [
        "Problema:\n",
        "La deserción de empleados en las empresas (employee attrition) es un aspecto inevitable debido a variadas razones. Por ejemplo, el retiro puede obedecer a una actualización de conocimientos (estudios) que abre otras oportunidades para el trabajador; a razones familiares que impliquen mudarse lejos del lugar de trabajo; imperativos de salud y el haber cumplido con los requisitos para optar a la jubilación. Es decir, la disminución de una plantilla de empleados no obedece necesariamente a que aquellos tengan problemas con su empleador, sino que puede responder a factores relacionados con las condiciones y desarrollos de vida de cada uno. Sin embargo, para las empresas sería de gran valor identificar con suficiente antelación los empleados que podrían considerar el abandono de sus puestos de trabajo y los factores relacionados con estas decisiones.\n",
        "\n",
        "¿Cuáles son los objetivos de la empresa? ¿Qué tipo de aprendizaje y tarea utilizaría para resolverlos?\n"
      ]
    },
    {
      "cell_type": "markdown",
      "metadata": {
        "id": "hsI8jQtsszcM"
      },
      "source": [
        "Diccionario:\n",
        "\n",
        "Edad.Valor numérico\n",
        "\n",
        "Renuncia.Empleado que renunció a la empresa (0=no, 1=sí)\n",
        "\n",
        "Viaje_negocio (ocasional, frecuente, no_viaja)\n",
        "\n",
        "Distancia_desde_casa. Valor numérico. Distabncia del trabajo al domicilio.\n",
        "\n",
        "Satisfacción_ambiente. Valor numérico.Satisfacción con el entorno de trabajo (1 \"Baja\" 2 \"Media\" 3 \"Alta\" 4 \"Muy alta\")\n",
        "\n",
        "Género.(Femenino, Masculino)\n",
        "\n",
        "Nivel_trabajo. Valor numérico.\n",
        "\n",
        "Estatus_marital (Divorciado, Casado, Soltero)\n",
        "\n",
        "Salario_mensual. Valor numérico.\n",
        "\n",
        "No_compañías_anteriores. Valor numérico. No. de empresas en las que ha trabajado.\n",
        "\n",
        "Sobretiempo (NO, SÍ)\n",
        "\n",
        "Satisfacción_relaciones. Valor numérico.\n",
        "\n",
        "Años_trabajo. Valor numérico. Total de años trabajados.\n",
        "\n",
        "Antigüedad. Valor numérico. Número total de años en la empresa.\n",
        "\n",
        "Años_cargo_actual. Valor numérico. Años en el cargo actual.\n",
        "\n",
        "Última_promoción. Valor numérico. Años desde la última promoción.\n",
        "\n",
        "Años_manager_actual. Valor numérico. Años con el gerente actual.\n"
      ]
    },
    {
      "cell_type": "markdown",
      "metadata": {
        "id": "iz0QoojTszcM"
      },
      "source": [
        "### 1. Importación de librerías\n",
        "\n",
        "En las siguientes líneas de código se importan las librerías y herramientas necesarias para desarrollar el caso de uso."
      ]
    },
    {
      "cell_type": "code",
      "execution_count": 65,
      "metadata": {
        "id": "dSQdq2lYszcN"
      },
      "outputs": [],
      "source": [
        "import pandas as pd\n",
        "# Para preparar los datos\n",
        "from sklearn.preprocessing import LabelEncoder\n",
        "# Para crear el arbol de decisión\n",
        "from sklearn.tree import DecisionTreeClassifier\n",
        "# Para usar KNN como clasificador\n",
        "from sklearn.neighbors import KNeighborsClassifier\n",
        "# Para realizar la separación del conjunto de aprendizaje en entrenamiento y test.\n",
        "from sklearn.model_selection import train_test_split\n",
        "# Para evaluar el modelo\n",
        "from sklearn.metrics import confusion_matrix, classification_report, precision_score, recall_score, f1_score, accuracy_score\n",
        "\n",
        "# Versiones anteriores a 1.2 de sklearn: from sklearn.metrics import plot_confusion_matrix\n",
        "from sklearn.metrics import ConfusionMatrixDisplay\n",
        "\n",
        "# Para búsqueda de hiperparámetros\n",
        "from sklearn.model_selection import GridSearchCV\n",
        "# Para la validación cruzada\n",
        "from sklearn.model_selection import KFold\n",
        "#Librerías para la visualización\n",
        "import matplotlib.pyplot as plt\n",
        "# Seaborn\n",
        "import seaborn as sns\n",
        "from sklearn import tree\n",
        "import sklearn as sklearn\n",
        "\n",
        "from sklearn.preprocessing import StandardScaler, OrdinalEncoder\n",
        "from sklearn.preprocessing import MinMaxScaler"
      ]
    },
    {
      "cell_type": "code",
      "execution_count": 8,
      "metadata": {
        "colab": {
          "base_uri": "https://localhost:8080/"
        },
        "id": "8XHtsdxDszcN",
        "outputId": "889be71f-c6d9-4d9c-b66e-ac09fdac65be"
      },
      "outputs": [
        {
          "name": "stdout",
          "output_type": "stream",
          "text": [
            "The scikit-learn version is 1.5.1.\n"
          ]
        }
      ],
      "source": [
        "print('The scikit-learn version is {}.'.format(sklearn.__version__))"
      ]
    },
    {
      "cell_type": "markdown",
      "metadata": {
        "id": "J1NAkGYMszcO"
      },
      "source": [
        "### 2. Carga de los datos\n",
        "A través de la librería **pandas** podemos realizar la carga de datos desde diferentes fuentes de información, en este caso se realizará la carga de un archivo plano csv (archivo separado por comas)."
      ]
    },
    {
      "cell_type": "code",
      "execution_count": 9,
      "metadata": {
        "id": "fYux8SbIszcO"
      },
      "outputs": [],
      "source": [
        "# Se cargan los datos.\n",
        "data=pd.read_csv('./data/Datos_empleados.csv', sep=';', encoding = 'utf-8')"
      ]
    },
    {
      "cell_type": "code",
      "execution_count": 10,
      "metadata": {
        "colab": {
          "base_uri": "https://localhost:8080/"
        },
        "id": "xLBkVKSoszcO",
        "outputId": "ce8f721a-db40-4722-9294-0c33a53c2415"
      },
      "outputs": [
        {
          "data": {
            "text/plain": [
              "(1470, 17)"
            ]
          },
          "execution_count": 10,
          "metadata": {},
          "output_type": "execute_result"
        }
      ],
      "source": [
        "# Cantidad de datos y número de variables\n",
        "data.shape"
      ]
    },
    {
      "cell_type": "code",
      "execution_count": 11,
      "metadata": {
        "colab": {
          "base_uri": "https://localhost:8080/",
          "height": 226
        },
        "id": "FIVDCZKwszcP",
        "outputId": "f7f11435-d304-4a4b-895e-1976b44f5a9d"
      },
      "outputs": [
        {
          "data": {
            "text/html": [
              "<div>\n",
              "<style scoped>\n",
              "    .dataframe tbody tr th:only-of-type {\n",
              "        vertical-align: middle;\n",
              "    }\n",
              "\n",
              "    .dataframe tbody tr th {\n",
              "        vertical-align: top;\n",
              "    }\n",
              "\n",
              "    .dataframe thead th {\n",
              "        text-align: right;\n",
              "    }\n",
              "</style>\n",
              "<table border=\"1\" class=\"dataframe\">\n",
              "  <thead>\n",
              "    <tr style=\"text-align: right;\">\n",
              "      <th></th>\n",
              "      <th>Edad</th>\n",
              "      <th>Renuncia</th>\n",
              "      <th>Viaje_negocio</th>\n",
              "      <th>Distacia_desde_casa</th>\n",
              "      <th>Satisfacción_ambiente</th>\n",
              "      <th>Género</th>\n",
              "      <th>Nivel_trabajo</th>\n",
              "      <th>Estatus_marital</th>\n",
              "      <th>Salario_mensual</th>\n",
              "      <th>No_Compañías_anteriores</th>\n",
              "      <th>Sobretiempo</th>\n",
              "      <th>Satisfacción_relaciones</th>\n",
              "      <th>Años_trabajo</th>\n",
              "      <th>Antigüedad</th>\n",
              "      <th>Años_cargo_actual</th>\n",
              "      <th>Última_promoción</th>\n",
              "      <th>Años_manager_actual</th>\n",
              "    </tr>\n",
              "  </thead>\n",
              "  <tbody>\n",
              "    <tr>\n",
              "      <th>0</th>\n",
              "      <td>41</td>\n",
              "      <td>SI</td>\n",
              "      <td>Ocasional</td>\n",
              "      <td>1</td>\n",
              "      <td>2</td>\n",
              "      <td>Femenino</td>\n",
              "      <td>2</td>\n",
              "      <td>Soltero</td>\n",
              "      <td>5993</td>\n",
              "      <td>8</td>\n",
              "      <td>SI</td>\n",
              "      <td>1</td>\n",
              "      <td>8</td>\n",
              "      <td>6</td>\n",
              "      <td>4</td>\n",
              "      <td>0</td>\n",
              "      <td>5</td>\n",
              "    </tr>\n",
              "    <tr>\n",
              "      <th>1</th>\n",
              "      <td>49</td>\n",
              "      <td>NO</td>\n",
              "      <td>Frecuentemente</td>\n",
              "      <td>8</td>\n",
              "      <td>3</td>\n",
              "      <td>Masculino</td>\n",
              "      <td>2</td>\n",
              "      <td>Casado</td>\n",
              "      <td>5130</td>\n",
              "      <td>1</td>\n",
              "      <td>NO</td>\n",
              "      <td>4</td>\n",
              "      <td>10</td>\n",
              "      <td>10</td>\n",
              "      <td>7</td>\n",
              "      <td>1</td>\n",
              "      <td>7</td>\n",
              "    </tr>\n",
              "    <tr>\n",
              "      <th>2</th>\n",
              "      <td>37</td>\n",
              "      <td>SI</td>\n",
              "      <td>Ocasional</td>\n",
              "      <td>2</td>\n",
              "      <td>4</td>\n",
              "      <td>Masculino</td>\n",
              "      <td>1</td>\n",
              "      <td>Soltero</td>\n",
              "      <td>2090</td>\n",
              "      <td>6</td>\n",
              "      <td>SI</td>\n",
              "      <td>2</td>\n",
              "      <td>7</td>\n",
              "      <td>0</td>\n",
              "      <td>0</td>\n",
              "      <td>0</td>\n",
              "      <td>0</td>\n",
              "    </tr>\n",
              "    <tr>\n",
              "      <th>3</th>\n",
              "      <td>33</td>\n",
              "      <td>NO</td>\n",
              "      <td>Frecuentemente</td>\n",
              "      <td>3</td>\n",
              "      <td>4</td>\n",
              "      <td>Femenino</td>\n",
              "      <td>1</td>\n",
              "      <td>Casado</td>\n",
              "      <td>2909</td>\n",
              "      <td>1</td>\n",
              "      <td>SI</td>\n",
              "      <td>3</td>\n",
              "      <td>8</td>\n",
              "      <td>8</td>\n",
              "      <td>7</td>\n",
              "      <td>3</td>\n",
              "      <td>0</td>\n",
              "    </tr>\n",
              "    <tr>\n",
              "      <th>4</th>\n",
              "      <td>27</td>\n",
              "      <td>NO</td>\n",
              "      <td>Ocasional</td>\n",
              "      <td>2</td>\n",
              "      <td>1</td>\n",
              "      <td>Masculino</td>\n",
              "      <td>1</td>\n",
              "      <td>Casado</td>\n",
              "      <td>3468</td>\n",
              "      <td>9</td>\n",
              "      <td>NO</td>\n",
              "      <td>4</td>\n",
              "      <td>6</td>\n",
              "      <td>2</td>\n",
              "      <td>2</td>\n",
              "      <td>2</td>\n",
              "      <td>2</td>\n",
              "    </tr>\n",
              "  </tbody>\n",
              "</table>\n",
              "</div>"
            ],
            "text/plain": [
              "   Edad Renuncia   Viaje_negocio  Distacia_desde_casa  Satisfacción_ambiente  \\\n",
              "0    41       SI       Ocasional                    1                      2   \n",
              "1    49       NO  Frecuentemente                    8                      3   \n",
              "2    37       SI       Ocasional                    2                      4   \n",
              "3    33       NO  Frecuentemente                    3                      4   \n",
              "4    27       NO       Ocasional                    2                      1   \n",
              "\n",
              "      Género  Nivel_trabajo Estatus_marital  Salario_mensual  \\\n",
              "0   Femenino              2         Soltero             5993   \n",
              "1  Masculino              2          Casado             5130   \n",
              "2  Masculino              1         Soltero             2090   \n",
              "3   Femenino              1          Casado             2909   \n",
              "4  Masculino              1          Casado             3468   \n",
              "\n",
              "   No_Compañías_anteriores Sobretiempo  Satisfacción_relaciones  Años_trabajo  \\\n",
              "0                        8          SI                        1             8   \n",
              "1                        1          NO                        4            10   \n",
              "2                        6          SI                        2             7   \n",
              "3                        1          SI                        3             8   \n",
              "4                        9          NO                        4             6   \n",
              "\n",
              "   Antigüedad  Años_cargo_actual  Última_promoción  Años_manager_actual  \n",
              "0           6                  4                 0                    5  \n",
              "1          10                  7                 1                    7  \n",
              "2           0                  0                 0                    0  \n",
              "3           8                  7                 3                    0  \n",
              "4           2                  2                 2                    2  "
            ]
          },
          "execution_count": 11,
          "metadata": {},
          "output_type": "execute_result"
        }
      ],
      "source": [
        "# Mostrar los datos\n",
        "data.head()"
      ]
    },
    {
      "cell_type": "code",
      "execution_count": 12,
      "metadata": {
        "colab": {
          "base_uri": "https://localhost:8080/",
          "height": 617
        },
        "id": "PQ3mFMS8szcP",
        "outputId": "283540f5-aeef-49e8-e335-59fa25f8973d"
      },
      "outputs": [
        {
          "data": {
            "text/plain": [
              "Edad                        int64\n",
              "Renuncia                   object\n",
              "Viaje_negocio              object\n",
              "Distacia_desde_casa         int64\n",
              "Satisfacción_ambiente       int64\n",
              "Género                     object\n",
              "Nivel_trabajo               int64\n",
              "Estatus_marital            object\n",
              "Salario_mensual             int64\n",
              "No_Compañías_anteriores     int64\n",
              "Sobretiempo                object\n",
              "Satisfacción_relaciones     int64\n",
              "Años_trabajo                int64\n",
              "Antigüedad                  int64\n",
              "Años_cargo_actual           int64\n",
              "Última_promoción            int64\n",
              "Años_manager_actual         int64\n",
              "dtype: object"
            ]
          },
          "execution_count": 12,
          "metadata": {},
          "output_type": "execute_result"
        }
      ],
      "source": [
        "# Podemos ver los tipos de todas la variables.\n",
        "data.dtypes"
      ]
    },
    {
      "cell_type": "markdown",
      "metadata": {
        "id": "JnbRjv-OszcP"
      },
      "source": [
        "### 3. Describir los datos\n",
        "Ahora podemos hacer una descripción más detallada de nuestros datos.Ten en cuenta que este paso es muy importante para poder determinar problemas de calidad de datos. Además, nos dará información que será útil en la fase de preparación de datos."
      ]
    },
    {
      "cell_type": "code",
      "execution_count": 13,
      "metadata": {
        "colab": {
          "base_uri": "https://localhost:8080/",
          "height": 320
        },
        "id": "J81qntkyszcP",
        "outputId": "0672c985-7c46-493a-f835-51ce4b8a8560"
      },
      "outputs": [
        {
          "data": {
            "text/html": [
              "<div>\n",
              "<style scoped>\n",
              "    .dataframe tbody tr th:only-of-type {\n",
              "        vertical-align: middle;\n",
              "    }\n",
              "\n",
              "    .dataframe tbody tr th {\n",
              "        vertical-align: top;\n",
              "    }\n",
              "\n",
              "    .dataframe thead th {\n",
              "        text-align: right;\n",
              "    }\n",
              "</style>\n",
              "<table border=\"1\" class=\"dataframe\">\n",
              "  <thead>\n",
              "    <tr style=\"text-align: right;\">\n",
              "      <th></th>\n",
              "      <th>Edad</th>\n",
              "      <th>Distacia_desde_casa</th>\n",
              "      <th>Satisfacción_ambiente</th>\n",
              "      <th>Nivel_trabajo</th>\n",
              "      <th>Salario_mensual</th>\n",
              "      <th>No_Compañías_anteriores</th>\n",
              "      <th>Satisfacción_relaciones</th>\n",
              "      <th>Años_trabajo</th>\n",
              "      <th>Antigüedad</th>\n",
              "      <th>Años_cargo_actual</th>\n",
              "      <th>Última_promoción</th>\n",
              "      <th>Años_manager_actual</th>\n",
              "    </tr>\n",
              "  </thead>\n",
              "  <tbody>\n",
              "    <tr>\n",
              "      <th>count</th>\n",
              "      <td>1470.000000</td>\n",
              "      <td>1470.000000</td>\n",
              "      <td>1470.000000</td>\n",
              "      <td>1470.000000</td>\n",
              "      <td>1470.000000</td>\n",
              "      <td>1470.000000</td>\n",
              "      <td>1470.000000</td>\n",
              "      <td>1470.000000</td>\n",
              "      <td>1470.000000</td>\n",
              "      <td>1470.000000</td>\n",
              "      <td>1470.000000</td>\n",
              "      <td>1470.000000</td>\n",
              "    </tr>\n",
              "    <tr>\n",
              "      <th>mean</th>\n",
              "      <td>36.923810</td>\n",
              "      <td>9.192517</td>\n",
              "      <td>2.721769</td>\n",
              "      <td>2.063946</td>\n",
              "      <td>6502.931293</td>\n",
              "      <td>2.693197</td>\n",
              "      <td>2.712245</td>\n",
              "      <td>11.279592</td>\n",
              "      <td>7.008163</td>\n",
              "      <td>4.229252</td>\n",
              "      <td>2.187755</td>\n",
              "      <td>4.123129</td>\n",
              "    </tr>\n",
              "    <tr>\n",
              "      <th>std</th>\n",
              "      <td>9.135373</td>\n",
              "      <td>8.106864</td>\n",
              "      <td>1.093082</td>\n",
              "      <td>1.106940</td>\n",
              "      <td>4707.956783</td>\n",
              "      <td>2.498009</td>\n",
              "      <td>1.081209</td>\n",
              "      <td>7.780782</td>\n",
              "      <td>6.126525</td>\n",
              "      <td>3.623137</td>\n",
              "      <td>3.222430</td>\n",
              "      <td>3.568136</td>\n",
              "    </tr>\n",
              "    <tr>\n",
              "      <th>min</th>\n",
              "      <td>18.000000</td>\n",
              "      <td>1.000000</td>\n",
              "      <td>1.000000</td>\n",
              "      <td>1.000000</td>\n",
              "      <td>1009.000000</td>\n",
              "      <td>0.000000</td>\n",
              "      <td>1.000000</td>\n",
              "      <td>0.000000</td>\n",
              "      <td>0.000000</td>\n",
              "      <td>0.000000</td>\n",
              "      <td>0.000000</td>\n",
              "      <td>0.000000</td>\n",
              "    </tr>\n",
              "    <tr>\n",
              "      <th>25%</th>\n",
              "      <td>30.000000</td>\n",
              "      <td>2.000000</td>\n",
              "      <td>2.000000</td>\n",
              "      <td>1.000000</td>\n",
              "      <td>2911.000000</td>\n",
              "      <td>1.000000</td>\n",
              "      <td>2.000000</td>\n",
              "      <td>6.000000</td>\n",
              "      <td>3.000000</td>\n",
              "      <td>2.000000</td>\n",
              "      <td>0.000000</td>\n",
              "      <td>2.000000</td>\n",
              "    </tr>\n",
              "    <tr>\n",
              "      <th>50%</th>\n",
              "      <td>36.000000</td>\n",
              "      <td>7.000000</td>\n",
              "      <td>3.000000</td>\n",
              "      <td>2.000000</td>\n",
              "      <td>4919.000000</td>\n",
              "      <td>2.000000</td>\n",
              "      <td>3.000000</td>\n",
              "      <td>10.000000</td>\n",
              "      <td>5.000000</td>\n",
              "      <td>3.000000</td>\n",
              "      <td>1.000000</td>\n",
              "      <td>3.000000</td>\n",
              "    </tr>\n",
              "    <tr>\n",
              "      <th>75%</th>\n",
              "      <td>43.000000</td>\n",
              "      <td>14.000000</td>\n",
              "      <td>4.000000</td>\n",
              "      <td>3.000000</td>\n",
              "      <td>8379.000000</td>\n",
              "      <td>4.000000</td>\n",
              "      <td>4.000000</td>\n",
              "      <td>15.000000</td>\n",
              "      <td>9.000000</td>\n",
              "      <td>7.000000</td>\n",
              "      <td>3.000000</td>\n",
              "      <td>7.000000</td>\n",
              "    </tr>\n",
              "    <tr>\n",
              "      <th>max</th>\n",
              "      <td>60.000000</td>\n",
              "      <td>29.000000</td>\n",
              "      <td>4.000000</td>\n",
              "      <td>5.000000</td>\n",
              "      <td>19999.000000</td>\n",
              "      <td>9.000000</td>\n",
              "      <td>4.000000</td>\n",
              "      <td>40.000000</td>\n",
              "      <td>40.000000</td>\n",
              "      <td>18.000000</td>\n",
              "      <td>15.000000</td>\n",
              "      <td>17.000000</td>\n",
              "    </tr>\n",
              "  </tbody>\n",
              "</table>\n",
              "</div>"
            ],
            "text/plain": [
              "              Edad  Distacia_desde_casa  Satisfacción_ambiente  Nivel_trabajo  \\\n",
              "count  1470.000000          1470.000000            1470.000000    1470.000000   \n",
              "mean     36.923810             9.192517               2.721769       2.063946   \n",
              "std       9.135373             8.106864               1.093082       1.106940   \n",
              "min      18.000000             1.000000               1.000000       1.000000   \n",
              "25%      30.000000             2.000000               2.000000       1.000000   \n",
              "50%      36.000000             7.000000               3.000000       2.000000   \n",
              "75%      43.000000            14.000000               4.000000       3.000000   \n",
              "max      60.000000            29.000000               4.000000       5.000000   \n",
              "\n",
              "       Salario_mensual  No_Compañías_anteriores  Satisfacción_relaciones  \\\n",
              "count      1470.000000              1470.000000              1470.000000   \n",
              "mean       6502.931293                 2.693197                 2.712245   \n",
              "std        4707.956783                 2.498009                 1.081209   \n",
              "min        1009.000000                 0.000000                 1.000000   \n",
              "25%        2911.000000                 1.000000                 2.000000   \n",
              "50%        4919.000000                 2.000000                 3.000000   \n",
              "75%        8379.000000                 4.000000                 4.000000   \n",
              "max       19999.000000                 9.000000                 4.000000   \n",
              "\n",
              "       Años_trabajo   Antigüedad  Años_cargo_actual  Última_promoción  \\\n",
              "count   1470.000000  1470.000000        1470.000000       1470.000000   \n",
              "mean      11.279592     7.008163           4.229252          2.187755   \n",
              "std        7.780782     6.126525           3.623137          3.222430   \n",
              "min        0.000000     0.000000           0.000000          0.000000   \n",
              "25%        6.000000     3.000000           2.000000          0.000000   \n",
              "50%       10.000000     5.000000           3.000000          1.000000   \n",
              "75%       15.000000     9.000000           7.000000          3.000000   \n",
              "max       40.000000    40.000000          18.000000         15.000000   \n",
              "\n",
              "       Años_manager_actual  \n",
              "count          1470.000000  \n",
              "mean              4.123129  \n",
              "std               3.568136  \n",
              "min               0.000000  \n",
              "25%               2.000000  \n",
              "50%               3.000000  \n",
              "75%               7.000000  \n",
              "max              17.000000  "
            ]
          },
          "execution_count": 13,
          "metadata": {},
          "output_type": "execute_result"
        }
      ],
      "source": [
        "# Se realiza el perfilamiento de los datos. En este, se genera información de tipo descriptivo para cada una de las\n",
        "# variables numéricas.\n",
        "data.describe()"
      ]
    },
    {
      "cell_type": "code",
      "execution_count": 14,
      "metadata": {
        "colab": {
          "base_uri": "https://localhost:8080/",
          "height": 266
        },
        "id": "R-dp5tXGszcQ",
        "outputId": "ca620037-8963-4f19-f1b1-2463868009aa"
      },
      "outputs": [
        {
          "name": "stderr",
          "output_type": "stream",
          "text": [
            "/tmp/ipykernel_6898/4103182267.py:2: FutureWarning: pandas.value_counts is deprecated and will be removed in a future version. Use pd.Series(obj).value_counts() instead.\n",
            "  pd.value_counts(data['Viaje_negocio'])\n"
          ]
        },
        {
          "data": {
            "text/plain": [
              "Viaje_negocio\n",
              "Ocasional         1043\n",
              "Frecuentemente     277\n",
              "No-viaja           150\n",
              "Name: count, dtype: int64"
            ]
          },
          "execution_count": 14,
          "metadata": {},
          "output_type": "execute_result"
        }
      ],
      "source": [
        "# Categorías que se presentan en la variable categórica \"Viaje_negocio\" y en qué proporción.\n",
        "pd.value_counts(data['Viaje_negocio'])"
      ]
    },
    {
      "cell_type": "code",
      "execution_count": 15,
      "metadata": {
        "colab": {
          "base_uri": "https://localhost:8080/",
          "height": 234
        },
        "id": "Cee2Y3x5szcQ",
        "outputId": "a5d7fc47-20ee-4a8b-8cc7-abcd0adcaf76"
      },
      "outputs": [
        {
          "name": "stderr",
          "output_type": "stream",
          "text": [
            "/tmp/ipykernel_6898/3108613442.py:2: FutureWarning: pandas.value_counts is deprecated and will be removed in a future version. Use pd.Series(obj).value_counts() instead.\n",
            "  pd.value_counts(data['Género'])\n"
          ]
        },
        {
          "data": {
            "text/plain": [
              "Género\n",
              "Masculino    882\n",
              "Femenino     588\n",
              "Name: count, dtype: int64"
            ]
          },
          "execution_count": 15,
          "metadata": {},
          "output_type": "execute_result"
        }
      ],
      "source": [
        "# Categorías que se presentan en la variable categórica \"Género\" y en qué proporción.\n",
        "pd.value_counts(data['Género'])"
      ]
    },
    {
      "cell_type": "code",
      "execution_count": 16,
      "metadata": {
        "colab": {
          "base_uri": "https://localhost:8080/",
          "height": 266
        },
        "id": "FgOzNt45szcQ",
        "outputId": "d3c6c64b-7983-4877-916c-9b8cbe00473e"
      },
      "outputs": [
        {
          "name": "stderr",
          "output_type": "stream",
          "text": [
            "/tmp/ipykernel_6898/2083681142.py:2: FutureWarning: pandas.value_counts is deprecated and will be removed in a future version. Use pd.Series(obj).value_counts() instead.\n",
            "  pd.value_counts(data['Estatus_marital'])\n"
          ]
        },
        {
          "data": {
            "text/plain": [
              "Estatus_marital\n",
              "Casado        673\n",
              "Soltero       470\n",
              "Divorciado    327\n",
              "Name: count, dtype: int64"
            ]
          },
          "execution_count": 16,
          "metadata": {},
          "output_type": "execute_result"
        }
      ],
      "source": [
        "# Categorías que se presentan en la variable categórica \"Estatus_marital\" y en qué proporción.\n",
        "pd.value_counts(data['Estatus_marital'])"
      ]
    },
    {
      "cell_type": "code",
      "execution_count": 17,
      "metadata": {
        "colab": {
          "base_uri": "https://localhost:8080/",
          "height": 234
        },
        "id": "YH5HidhjszcQ",
        "outputId": "daf253da-db3b-4d56-c7b6-8dc0ed086590"
      },
      "outputs": [
        {
          "name": "stderr",
          "output_type": "stream",
          "text": [
            "/tmp/ipykernel_6898/1982401685.py:2: FutureWarning: pandas.value_counts is deprecated and will be removed in a future version. Use pd.Series(obj).value_counts() instead.\n",
            "  pd.value_counts(data['Sobretiempo'])\n"
          ]
        },
        {
          "data": {
            "text/plain": [
              "Sobretiempo\n",
              "NO    1054\n",
              "SI     416\n",
              "Name: count, dtype: int64"
            ]
          },
          "execution_count": 17,
          "metadata": {},
          "output_type": "execute_result"
        }
      ],
      "source": [
        "# Categorías que se presentan en la variable categórica \"Sobretiempo\" y en qué proporción.\n",
        "pd.value_counts(data['Sobretiempo'])"
      ]
    },
    {
      "cell_type": "markdown",
      "metadata": {
        "id": "kBYMpxttszcQ"
      },
      "source": [
        "Nuestra variable objetivo es \"Renuncia\", la cual indica si un empleado abandonó la empresa (SI) o se encuentra todavía laborando en esta."
      ]
    },
    {
      "cell_type": "code",
      "execution_count": 18,
      "metadata": {
        "colab": {
          "base_uri": "https://localhost:8080/",
          "height": 234
        },
        "id": "hzSNNyFPszcQ",
        "outputId": "1f324890-b721-401e-8d91-acd45026b6dd"
      },
      "outputs": [
        {
          "name": "stderr",
          "output_type": "stream",
          "text": [
            "/tmp/ipykernel_6898/3187199910.py:2: FutureWarning: pandas.value_counts is deprecated and will be removed in a future version. Use pd.Series(obj).value_counts() instead.\n",
            "  pd.value_counts(data['Renuncia'])\n"
          ]
        },
        {
          "data": {
            "text/plain": [
              "Renuncia\n",
              "NO    1233\n",
              "SI     237\n",
              "Name: count, dtype: int64"
            ]
          },
          "execution_count": 18,
          "metadata": {},
          "output_type": "execute_result"
        }
      ],
      "source": [
        "# Categorías que se presentan en la variable categórica \"Renuncia\" y en qué proporción.\n",
        "pd.value_counts(data['Renuncia'])"
      ]
    },
    {
      "cell_type": "code",
      "execution_count": 19,
      "metadata": {
        "colab": {
          "base_uri": "https://localhost:8080/",
          "height": 617
        },
        "id": "AwyJCU0sszcR",
        "outputId": "5844ff71-a664-4a4b-e31f-d07843bd8753"
      },
      "outputs": [
        {
          "data": {
            "text/plain": [
              "Edad                       0\n",
              "Renuncia                   0\n",
              "Viaje_negocio              0\n",
              "Distacia_desde_casa        0\n",
              "Satisfacción_ambiente      0\n",
              "Género                     0\n",
              "Nivel_trabajo              0\n",
              "Estatus_marital            0\n",
              "Salario_mensual            0\n",
              "No_Compañías_anteriores    0\n",
              "Sobretiempo                0\n",
              "Satisfacción_relaciones    0\n",
              "Años_trabajo               0\n",
              "Antigüedad                 0\n",
              "Años_cargo_actual          0\n",
              "Última_promoción           0\n",
              "Años_manager_actual        0\n",
              "dtype: int64"
            ]
          },
          "execution_count": 19,
          "metadata": {},
          "output_type": "execute_result"
        }
      ],
      "source": [
        "# Se observa que no hay ausencias:\n",
        "data.isnull().sum()"
      ]
    },
    {
      "cell_type": "markdown",
      "metadata": {
        "id": "nYWMdlo4szcR"
      },
      "source": [
        "### 3. Limpieza y preparación de los datos\n",
        "\n",
        "Primero vamos a ejecutar los pasos de limpieza de los datos, relacionados con la eliminación de registros con ausencias y duplicados."
      ]
    },
    {
      "cell_type": "code",
      "execution_count": 20,
      "metadata": {
        "id": "CSPbUe6HszcR"
      },
      "outputs": [],
      "source": [
        "# Es recomendable que todos los pasos de limpieza y preparación se realicen sobre otro archivo.\n",
        "data_t = data.copy()\n",
        "# Eliminación de registros duplicados.\n",
        "data_t=data_t.drop_duplicates()"
      ]
    },
    {
      "cell_type": "markdown",
      "metadata": {
        "id": "WoE2k5k7szcR"
      },
      "source": [
        "Un aspecto muy importante para tener en cuenta son los requerimientos de entrada de los algoritmos de aprendizaje implementados en las librerías utilizadas. En particular, scikit-learn requiere que todos los atributos sean numéricos y que la variable objetivo, en una tarea de clasificación, esté codificada con números."
      ]
    },
    {
      "cell_type": "code",
      "execution_count": 21,
      "metadata": {
        "id": "q__c2M9qszcR"
      },
      "outputs": [],
      "source": [
        "# Transformación de las variables categóricas de entrada\n",
        "data_t = pd.get_dummies(data_t, columns=['Viaje_negocio','Género', 'Estatus_marital', 'Sobretiempo'])"
      ]
    },
    {
      "cell_type": "code",
      "execution_count": 22,
      "metadata": {
        "id": "gHQBJqBhszcR"
      },
      "outputs": [],
      "source": [
        "# Para hacer la transformación o codificación de la variable objetivo utilizaremos la función labelEncoder. Es importante\n",
        "# que tengas en cuenta que, aunque la representación de esta variable sea numérica, la tarea a resolver seguirá siendo\n",
        "# una clasificación.\n",
        "# Primero tenemos que generar el objeto.\n",
        "codificacion = LabelEncoder()"
      ]
    },
    {
      "cell_type": "code",
      "execution_count": 23,
      "metadata": {
        "id": "4vEP1cpEszcR"
      },
      "outputs": [],
      "source": [
        "# Ahora se ajusta a los datos.\n",
        "data_t['Renuncia']=codificacion.fit_transform(data_t['Renuncia'])"
      ]
    },
    {
      "cell_type": "code",
      "execution_count": 24,
      "metadata": {
        "colab": {
          "base_uri": "https://localhost:8080/",
          "height": 178
        },
        "id": "_orn2mo9szcS",
        "outputId": "536e2f4b-4ad0-4e55-ddfa-5f37b7deea59"
      },
      "outputs": [
        {
          "data": {
            "text/plain": [
              "Renuncia\n",
              "0    1233\n",
              "1     237\n",
              "Name: count, dtype: int64"
            ]
          },
          "execution_count": 24,
          "metadata": {},
          "output_type": "execute_result"
        }
      ],
      "source": [
        "# Visualización de la clase. Observamos que ahora la categoría \"SI\" está codificada con un \"1\" y la clase \"NO\" con un \"0\"\n",
        "data_t['Renuncia'].value_counts()"
      ]
    },
    {
      "cell_type": "code",
      "execution_count": 25,
      "metadata": {
        "colab": {
          "base_uri": "https://localhost:8080/",
          "height": 273
        },
        "id": "CBVzODhkszcS",
        "outputId": "40417116-27c1-42f8-be54-4dae084d2f73"
      },
      "outputs": [
        {
          "data": {
            "text/html": [
              "<div>\n",
              "<style scoped>\n",
              "    .dataframe tbody tr th:only-of-type {\n",
              "        vertical-align: middle;\n",
              "    }\n",
              "\n",
              "    .dataframe tbody tr th {\n",
              "        vertical-align: top;\n",
              "    }\n",
              "\n",
              "    .dataframe thead th {\n",
              "        text-align: right;\n",
              "    }\n",
              "</style>\n",
              "<table border=\"1\" class=\"dataframe\">\n",
              "  <thead>\n",
              "    <tr style=\"text-align: right;\">\n",
              "      <th></th>\n",
              "      <th>Edad</th>\n",
              "      <th>Renuncia</th>\n",
              "      <th>Distacia_desde_casa</th>\n",
              "      <th>Satisfacción_ambiente</th>\n",
              "      <th>Nivel_trabajo</th>\n",
              "      <th>Salario_mensual</th>\n",
              "      <th>No_Compañías_anteriores</th>\n",
              "      <th>Satisfacción_relaciones</th>\n",
              "      <th>Años_trabajo</th>\n",
              "      <th>Antigüedad</th>\n",
              "      <th>...</th>\n",
              "      <th>Viaje_negocio_Frecuentemente</th>\n",
              "      <th>Viaje_negocio_No-viaja</th>\n",
              "      <th>Viaje_negocio_Ocasional</th>\n",
              "      <th>Género_Femenino</th>\n",
              "      <th>Género_Masculino</th>\n",
              "      <th>Estatus_marital_Casado</th>\n",
              "      <th>Estatus_marital_Divorciado</th>\n",
              "      <th>Estatus_marital_Soltero</th>\n",
              "      <th>Sobretiempo_NO</th>\n",
              "      <th>Sobretiempo_SI</th>\n",
              "    </tr>\n",
              "  </thead>\n",
              "  <tbody>\n",
              "    <tr>\n",
              "      <th>0</th>\n",
              "      <td>41</td>\n",
              "      <td>1</td>\n",
              "      <td>1</td>\n",
              "      <td>2</td>\n",
              "      <td>2</td>\n",
              "      <td>5993</td>\n",
              "      <td>8</td>\n",
              "      <td>1</td>\n",
              "      <td>8</td>\n",
              "      <td>6</td>\n",
              "      <td>...</td>\n",
              "      <td>False</td>\n",
              "      <td>False</td>\n",
              "      <td>True</td>\n",
              "      <td>True</td>\n",
              "      <td>False</td>\n",
              "      <td>False</td>\n",
              "      <td>False</td>\n",
              "      <td>True</td>\n",
              "      <td>False</td>\n",
              "      <td>True</td>\n",
              "    </tr>\n",
              "    <tr>\n",
              "      <th>1</th>\n",
              "      <td>49</td>\n",
              "      <td>0</td>\n",
              "      <td>8</td>\n",
              "      <td>3</td>\n",
              "      <td>2</td>\n",
              "      <td>5130</td>\n",
              "      <td>1</td>\n",
              "      <td>4</td>\n",
              "      <td>10</td>\n",
              "      <td>10</td>\n",
              "      <td>...</td>\n",
              "      <td>True</td>\n",
              "      <td>False</td>\n",
              "      <td>False</td>\n",
              "      <td>False</td>\n",
              "      <td>True</td>\n",
              "      <td>True</td>\n",
              "      <td>False</td>\n",
              "      <td>False</td>\n",
              "      <td>True</td>\n",
              "      <td>False</td>\n",
              "    </tr>\n",
              "    <tr>\n",
              "      <th>2</th>\n",
              "      <td>37</td>\n",
              "      <td>1</td>\n",
              "      <td>2</td>\n",
              "      <td>4</td>\n",
              "      <td>1</td>\n",
              "      <td>2090</td>\n",
              "      <td>6</td>\n",
              "      <td>2</td>\n",
              "      <td>7</td>\n",
              "      <td>0</td>\n",
              "      <td>...</td>\n",
              "      <td>False</td>\n",
              "      <td>False</td>\n",
              "      <td>True</td>\n",
              "      <td>False</td>\n",
              "      <td>True</td>\n",
              "      <td>False</td>\n",
              "      <td>False</td>\n",
              "      <td>True</td>\n",
              "      <td>False</td>\n",
              "      <td>True</td>\n",
              "    </tr>\n",
              "    <tr>\n",
              "      <th>3</th>\n",
              "      <td>33</td>\n",
              "      <td>0</td>\n",
              "      <td>3</td>\n",
              "      <td>4</td>\n",
              "      <td>1</td>\n",
              "      <td>2909</td>\n",
              "      <td>1</td>\n",
              "      <td>3</td>\n",
              "      <td>8</td>\n",
              "      <td>8</td>\n",
              "      <td>...</td>\n",
              "      <td>True</td>\n",
              "      <td>False</td>\n",
              "      <td>False</td>\n",
              "      <td>True</td>\n",
              "      <td>False</td>\n",
              "      <td>True</td>\n",
              "      <td>False</td>\n",
              "      <td>False</td>\n",
              "      <td>False</td>\n",
              "      <td>True</td>\n",
              "    </tr>\n",
              "    <tr>\n",
              "      <th>4</th>\n",
              "      <td>27</td>\n",
              "      <td>0</td>\n",
              "      <td>2</td>\n",
              "      <td>1</td>\n",
              "      <td>1</td>\n",
              "      <td>3468</td>\n",
              "      <td>9</td>\n",
              "      <td>4</td>\n",
              "      <td>6</td>\n",
              "      <td>2</td>\n",
              "      <td>...</td>\n",
              "      <td>False</td>\n",
              "      <td>False</td>\n",
              "      <td>True</td>\n",
              "      <td>False</td>\n",
              "      <td>True</td>\n",
              "      <td>True</td>\n",
              "      <td>False</td>\n",
              "      <td>False</td>\n",
              "      <td>True</td>\n",
              "      <td>False</td>\n",
              "    </tr>\n",
              "  </tbody>\n",
              "</table>\n",
              "<p>5 rows × 23 columns</p>\n",
              "</div>"
            ],
            "text/plain": [
              "   Edad  Renuncia  Distacia_desde_casa  Satisfacción_ambiente  Nivel_trabajo  \\\n",
              "0    41         1                    1                      2              2   \n",
              "1    49         0                    8                      3              2   \n",
              "2    37         1                    2                      4              1   \n",
              "3    33         0                    3                      4              1   \n",
              "4    27         0                    2                      1              1   \n",
              "\n",
              "   Salario_mensual  No_Compañías_anteriores  Satisfacción_relaciones  \\\n",
              "0             5993                        8                        1   \n",
              "1             5130                        1                        4   \n",
              "2             2090                        6                        2   \n",
              "3             2909                        1                        3   \n",
              "4             3468                        9                        4   \n",
              "\n",
              "   Años_trabajo  Antigüedad  ...  Viaje_negocio_Frecuentemente  \\\n",
              "0             8           6  ...                         False   \n",
              "1            10          10  ...                          True   \n",
              "2             7           0  ...                         False   \n",
              "3             8           8  ...                          True   \n",
              "4             6           2  ...                         False   \n",
              "\n",
              "   Viaje_negocio_No-viaja  Viaje_negocio_Ocasional  Género_Femenino  \\\n",
              "0                   False                     True             True   \n",
              "1                   False                    False            False   \n",
              "2                   False                     True            False   \n",
              "3                   False                    False             True   \n",
              "4                   False                     True            False   \n",
              "\n",
              "   Género_Masculino  Estatus_marital_Casado  Estatus_marital_Divorciado  \\\n",
              "0             False                   False                       False   \n",
              "1              True                    True                       False   \n",
              "2              True                   False                       False   \n",
              "3             False                    True                       False   \n",
              "4              True                    True                       False   \n",
              "\n",
              "   Estatus_marital_Soltero  Sobretiempo_NO  Sobretiempo_SI  \n",
              "0                     True           False            True  \n",
              "1                    False            True           False  \n",
              "2                     True           False            True  \n",
              "3                    False           False            True  \n",
              "4                    False            True           False  \n",
              "\n",
              "[5 rows x 23 columns]"
            ]
          },
          "execution_count": 25,
          "metadata": {},
          "output_type": "execute_result"
        }
      ],
      "source": [
        "# Podemos ver cómo quedaron nuestro datos.\n",
        "data_t.head()"
      ]
    },
    {
      "cell_type": "code",
      "execution_count": 26,
      "metadata": {
        "colab": {
          "base_uri": "https://localhost:8080/"
        },
        "id": "jR8HNaxIszcS",
        "outputId": "f1ad176f-6da4-4d72-d4e1-5c99aedbb086"
      },
      "outputs": [
        {
          "data": {
            "text/plain": [
              "(1470, 23)"
            ]
          },
          "execution_count": 26,
          "metadata": {},
          "output_type": "execute_result"
        }
      ],
      "source": [
        "#revisión del total de registros\n",
        "data_t.shape"
      ]
    },
    {
      "cell_type": "markdown",
      "metadata": {
        "id": "C6S6-w-qszcS"
      },
      "source": [
        "### 4. Construcción del modelo\n",
        "\n",
        "Los algoritmos supervisados implementados en scikit-learn requieren que las variables de entrada estén separadas de la variable objetivo."
      ]
    },
    {
      "cell_type": "code",
      "execution_count": 27,
      "metadata": {
        "id": "II58A6vYszcS"
      },
      "outputs": [],
      "source": [
        "# Se selecciona la variable objetivo, en este caso \"Renuncia\".\n",
        "Y=data_t['Renuncia']\n",
        "# Del conjunto de datos se elimina la variable \"Renuncia\".\n",
        "X=data_t.drop(['Renuncia'], axis=1)"
      ]
    },
    {
      "cell_type": "markdown",
      "metadata": {
        "id": "QZlvcjUJszcS"
      },
      "source": [
        "¿Cómo determinar la capacidad de generalizacion del modelo?"
      ]
    },
    {
      "cell_type": "markdown",
      "metadata": {
        "id": "09FRUmRGszcS"
      },
      "source": [
        "![image.png](attachment:image.png)"
      ]
    },
    {
      "cell_type": "markdown",
      "metadata": {
        "id": "mBbgkBJrszcT"
      },
      "source": [
        "Para determinar el rendimiento del modelo sobre datos nuevos (rendimiento de generalización) dividimos nuestros datos en dos conjuntos: uno para el entrenamiento y otro para el test."
      ]
    },
    {
      "cell_type": "markdown",
      "metadata": {
        "id": "vCTCZbrEszcT"
      },
      "source": [
        "![image.png](attachment:image.png)"
      ]
    },
    {
      "cell_type": "code",
      "execution_count": 28,
      "metadata": {
        "id": "5Zf38GCAszcT"
      },
      "outputs": [],
      "source": [
        "# Dividimos los datos en entrenamiento y test\n",
        "X_train, X_test, Y_train, Y_test = train_test_split(X, Y, test_size=0.2, random_state=0)"
      ]
    },
    {
      "cell_type": "code",
      "execution_count": 29,
      "metadata": {
        "colab": {
          "base_uri": "https://localhost:8080/",
          "height": 74
        },
        "id": "gkMQT6MZszcT",
        "outputId": "d59750e6-f28f-45d3-96bd-48a42408aa79"
      },
      "outputs": [
        {
          "data": {
            "text/html": [
              "<style>#sk-container-id-1 {\n",
              "  /* Definition of color scheme common for light and dark mode */\n",
              "  --sklearn-color-text: black;\n",
              "  --sklearn-color-line: gray;\n",
              "  /* Definition of color scheme for unfitted estimators */\n",
              "  --sklearn-color-unfitted-level-0: #fff5e6;\n",
              "  --sklearn-color-unfitted-level-1: #f6e4d2;\n",
              "  --sklearn-color-unfitted-level-2: #ffe0b3;\n",
              "  --sklearn-color-unfitted-level-3: chocolate;\n",
              "  /* Definition of color scheme for fitted estimators */\n",
              "  --sklearn-color-fitted-level-0: #f0f8ff;\n",
              "  --sklearn-color-fitted-level-1: #d4ebff;\n",
              "  --sklearn-color-fitted-level-2: #b3dbfd;\n",
              "  --sklearn-color-fitted-level-3: cornflowerblue;\n",
              "\n",
              "  /* Specific color for light theme */\n",
              "  --sklearn-color-text-on-default-background: var(--sg-text-color, var(--theme-code-foreground, var(--jp-content-font-color1, black)));\n",
              "  --sklearn-color-background: var(--sg-background-color, var(--theme-background, var(--jp-layout-color0, white)));\n",
              "  --sklearn-color-border-box: var(--sg-text-color, var(--theme-code-foreground, var(--jp-content-font-color1, black)));\n",
              "  --sklearn-color-icon: #696969;\n",
              "\n",
              "  @media (prefers-color-scheme: dark) {\n",
              "    /* Redefinition of color scheme for dark theme */\n",
              "    --sklearn-color-text-on-default-background: var(--sg-text-color, var(--theme-code-foreground, var(--jp-content-font-color1, white)));\n",
              "    --sklearn-color-background: var(--sg-background-color, var(--theme-background, var(--jp-layout-color0, #111)));\n",
              "    --sklearn-color-border-box: var(--sg-text-color, var(--theme-code-foreground, var(--jp-content-font-color1, white)));\n",
              "    --sklearn-color-icon: #878787;\n",
              "  }\n",
              "}\n",
              "\n",
              "#sk-container-id-1 {\n",
              "  color: var(--sklearn-color-text);\n",
              "}\n",
              "\n",
              "#sk-container-id-1 pre {\n",
              "  padding: 0;\n",
              "}\n",
              "\n",
              "#sk-container-id-1 input.sk-hidden--visually {\n",
              "  border: 0;\n",
              "  clip: rect(1px 1px 1px 1px);\n",
              "  clip: rect(1px, 1px, 1px, 1px);\n",
              "  height: 1px;\n",
              "  margin: -1px;\n",
              "  overflow: hidden;\n",
              "  padding: 0;\n",
              "  position: absolute;\n",
              "  width: 1px;\n",
              "}\n",
              "\n",
              "#sk-container-id-1 div.sk-dashed-wrapped {\n",
              "  border: 1px dashed var(--sklearn-color-line);\n",
              "  margin: 0 0.4em 0.5em 0.4em;\n",
              "  box-sizing: border-box;\n",
              "  padding-bottom: 0.4em;\n",
              "  background-color: var(--sklearn-color-background);\n",
              "}\n",
              "\n",
              "#sk-container-id-1 div.sk-container {\n",
              "  /* jupyter's `normalize.less` sets `[hidden] { display: none; }`\n",
              "     but bootstrap.min.css set `[hidden] { display: none !important; }`\n",
              "     so we also need the `!important` here to be able to override the\n",
              "     default hidden behavior on the sphinx rendered scikit-learn.org.\n",
              "     See: https://github.com/scikit-learn/scikit-learn/issues/21755 */\n",
              "  display: inline-block !important;\n",
              "  position: relative;\n",
              "}\n",
              "\n",
              "#sk-container-id-1 div.sk-text-repr-fallback {\n",
              "  display: none;\n",
              "}\n",
              "\n",
              "div.sk-parallel-item,\n",
              "div.sk-serial,\n",
              "div.sk-item {\n",
              "  /* draw centered vertical line to link estimators */\n",
              "  background-image: linear-gradient(var(--sklearn-color-text-on-default-background), var(--sklearn-color-text-on-default-background));\n",
              "  background-size: 2px 100%;\n",
              "  background-repeat: no-repeat;\n",
              "  background-position: center center;\n",
              "}\n",
              "\n",
              "/* Parallel-specific style estimator block */\n",
              "\n",
              "#sk-container-id-1 div.sk-parallel-item::after {\n",
              "  content: \"\";\n",
              "  width: 100%;\n",
              "  border-bottom: 2px solid var(--sklearn-color-text-on-default-background);\n",
              "  flex-grow: 1;\n",
              "}\n",
              "\n",
              "#sk-container-id-1 div.sk-parallel {\n",
              "  display: flex;\n",
              "  align-items: stretch;\n",
              "  justify-content: center;\n",
              "  background-color: var(--sklearn-color-background);\n",
              "  position: relative;\n",
              "}\n",
              "\n",
              "#sk-container-id-1 div.sk-parallel-item {\n",
              "  display: flex;\n",
              "  flex-direction: column;\n",
              "}\n",
              "\n",
              "#sk-container-id-1 div.sk-parallel-item:first-child::after {\n",
              "  align-self: flex-end;\n",
              "  width: 50%;\n",
              "}\n",
              "\n",
              "#sk-container-id-1 div.sk-parallel-item:last-child::after {\n",
              "  align-self: flex-start;\n",
              "  width: 50%;\n",
              "}\n",
              "\n",
              "#sk-container-id-1 div.sk-parallel-item:only-child::after {\n",
              "  width: 0;\n",
              "}\n",
              "\n",
              "/* Serial-specific style estimator block */\n",
              "\n",
              "#sk-container-id-1 div.sk-serial {\n",
              "  display: flex;\n",
              "  flex-direction: column;\n",
              "  align-items: center;\n",
              "  background-color: var(--sklearn-color-background);\n",
              "  padding-right: 1em;\n",
              "  padding-left: 1em;\n",
              "}\n",
              "\n",
              "\n",
              "/* Toggleable style: style used for estimator/Pipeline/ColumnTransformer box that is\n",
              "clickable and can be expanded/collapsed.\n",
              "- Pipeline and ColumnTransformer use this feature and define the default style\n",
              "- Estimators will overwrite some part of the style using the `sk-estimator` class\n",
              "*/\n",
              "\n",
              "/* Pipeline and ColumnTransformer style (default) */\n",
              "\n",
              "#sk-container-id-1 div.sk-toggleable {\n",
              "  /* Default theme specific background. It is overwritten whether we have a\n",
              "  specific estimator or a Pipeline/ColumnTransformer */\n",
              "  background-color: var(--sklearn-color-background);\n",
              "}\n",
              "\n",
              "/* Toggleable label */\n",
              "#sk-container-id-1 label.sk-toggleable__label {\n",
              "  cursor: pointer;\n",
              "  display: block;\n",
              "  width: 100%;\n",
              "  margin-bottom: 0;\n",
              "  padding: 0.5em;\n",
              "  box-sizing: border-box;\n",
              "  text-align: center;\n",
              "}\n",
              "\n",
              "#sk-container-id-1 label.sk-toggleable__label-arrow:before {\n",
              "  /* Arrow on the left of the label */\n",
              "  content: \"▸\";\n",
              "  float: left;\n",
              "  margin-right: 0.25em;\n",
              "  color: var(--sklearn-color-icon);\n",
              "}\n",
              "\n",
              "#sk-container-id-1 label.sk-toggleable__label-arrow:hover:before {\n",
              "  color: var(--sklearn-color-text);\n",
              "}\n",
              "\n",
              "/* Toggleable content - dropdown */\n",
              "\n",
              "#sk-container-id-1 div.sk-toggleable__content {\n",
              "  max-height: 0;\n",
              "  max-width: 0;\n",
              "  overflow: hidden;\n",
              "  text-align: left;\n",
              "  /* unfitted */\n",
              "  background-color: var(--sklearn-color-unfitted-level-0);\n",
              "}\n",
              "\n",
              "#sk-container-id-1 div.sk-toggleable__content.fitted {\n",
              "  /* fitted */\n",
              "  background-color: var(--sklearn-color-fitted-level-0);\n",
              "}\n",
              "\n",
              "#sk-container-id-1 div.sk-toggleable__content pre {\n",
              "  margin: 0.2em;\n",
              "  border-radius: 0.25em;\n",
              "  color: var(--sklearn-color-text);\n",
              "  /* unfitted */\n",
              "  background-color: var(--sklearn-color-unfitted-level-0);\n",
              "}\n",
              "\n",
              "#sk-container-id-1 div.sk-toggleable__content.fitted pre {\n",
              "  /* unfitted */\n",
              "  background-color: var(--sklearn-color-fitted-level-0);\n",
              "}\n",
              "\n",
              "#sk-container-id-1 input.sk-toggleable__control:checked~div.sk-toggleable__content {\n",
              "  /* Expand drop-down */\n",
              "  max-height: 200px;\n",
              "  max-width: 100%;\n",
              "  overflow: auto;\n",
              "}\n",
              "\n",
              "#sk-container-id-1 input.sk-toggleable__control:checked~label.sk-toggleable__label-arrow:before {\n",
              "  content: \"▾\";\n",
              "}\n",
              "\n",
              "/* Pipeline/ColumnTransformer-specific style */\n",
              "\n",
              "#sk-container-id-1 div.sk-label input.sk-toggleable__control:checked~label.sk-toggleable__label {\n",
              "  color: var(--sklearn-color-text);\n",
              "  background-color: var(--sklearn-color-unfitted-level-2);\n",
              "}\n",
              "\n",
              "#sk-container-id-1 div.sk-label.fitted input.sk-toggleable__control:checked~label.sk-toggleable__label {\n",
              "  background-color: var(--sklearn-color-fitted-level-2);\n",
              "}\n",
              "\n",
              "/* Estimator-specific style */\n",
              "\n",
              "/* Colorize estimator box */\n",
              "#sk-container-id-1 div.sk-estimator input.sk-toggleable__control:checked~label.sk-toggleable__label {\n",
              "  /* unfitted */\n",
              "  background-color: var(--sklearn-color-unfitted-level-2);\n",
              "}\n",
              "\n",
              "#sk-container-id-1 div.sk-estimator.fitted input.sk-toggleable__control:checked~label.sk-toggleable__label {\n",
              "  /* fitted */\n",
              "  background-color: var(--sklearn-color-fitted-level-2);\n",
              "}\n",
              "\n",
              "#sk-container-id-1 div.sk-label label.sk-toggleable__label,\n",
              "#sk-container-id-1 div.sk-label label {\n",
              "  /* The background is the default theme color */\n",
              "  color: var(--sklearn-color-text-on-default-background);\n",
              "}\n",
              "\n",
              "/* On hover, darken the color of the background */\n",
              "#sk-container-id-1 div.sk-label:hover label.sk-toggleable__label {\n",
              "  color: var(--sklearn-color-text);\n",
              "  background-color: var(--sklearn-color-unfitted-level-2);\n",
              "}\n",
              "\n",
              "/* Label box, darken color on hover, fitted */\n",
              "#sk-container-id-1 div.sk-label.fitted:hover label.sk-toggleable__label.fitted {\n",
              "  color: var(--sklearn-color-text);\n",
              "  background-color: var(--sklearn-color-fitted-level-2);\n",
              "}\n",
              "\n",
              "/* Estimator label */\n",
              "\n",
              "#sk-container-id-1 div.sk-label label {\n",
              "  font-family: monospace;\n",
              "  font-weight: bold;\n",
              "  display: inline-block;\n",
              "  line-height: 1.2em;\n",
              "}\n",
              "\n",
              "#sk-container-id-1 div.sk-label-container {\n",
              "  text-align: center;\n",
              "}\n",
              "\n",
              "/* Estimator-specific */\n",
              "#sk-container-id-1 div.sk-estimator {\n",
              "  font-family: monospace;\n",
              "  border: 1px dotted var(--sklearn-color-border-box);\n",
              "  border-radius: 0.25em;\n",
              "  box-sizing: border-box;\n",
              "  margin-bottom: 0.5em;\n",
              "  /* unfitted */\n",
              "  background-color: var(--sklearn-color-unfitted-level-0);\n",
              "}\n",
              "\n",
              "#sk-container-id-1 div.sk-estimator.fitted {\n",
              "  /* fitted */\n",
              "  background-color: var(--sklearn-color-fitted-level-0);\n",
              "}\n",
              "\n",
              "/* on hover */\n",
              "#sk-container-id-1 div.sk-estimator:hover {\n",
              "  /* unfitted */\n",
              "  background-color: var(--sklearn-color-unfitted-level-2);\n",
              "}\n",
              "\n",
              "#sk-container-id-1 div.sk-estimator.fitted:hover {\n",
              "  /* fitted */\n",
              "  background-color: var(--sklearn-color-fitted-level-2);\n",
              "}\n",
              "\n",
              "/* Specification for estimator info (e.g. \"i\" and \"?\") */\n",
              "\n",
              "/* Common style for \"i\" and \"?\" */\n",
              "\n",
              ".sk-estimator-doc-link,\n",
              "a:link.sk-estimator-doc-link,\n",
              "a:visited.sk-estimator-doc-link {\n",
              "  float: right;\n",
              "  font-size: smaller;\n",
              "  line-height: 1em;\n",
              "  font-family: monospace;\n",
              "  background-color: var(--sklearn-color-background);\n",
              "  border-radius: 1em;\n",
              "  height: 1em;\n",
              "  width: 1em;\n",
              "  text-decoration: none !important;\n",
              "  margin-left: 1ex;\n",
              "  /* unfitted */\n",
              "  border: var(--sklearn-color-unfitted-level-1) 1pt solid;\n",
              "  color: var(--sklearn-color-unfitted-level-1);\n",
              "}\n",
              "\n",
              ".sk-estimator-doc-link.fitted,\n",
              "a:link.sk-estimator-doc-link.fitted,\n",
              "a:visited.sk-estimator-doc-link.fitted {\n",
              "  /* fitted */\n",
              "  border: var(--sklearn-color-fitted-level-1) 1pt solid;\n",
              "  color: var(--sklearn-color-fitted-level-1);\n",
              "}\n",
              "\n",
              "/* On hover */\n",
              "div.sk-estimator:hover .sk-estimator-doc-link:hover,\n",
              ".sk-estimator-doc-link:hover,\n",
              "div.sk-label-container:hover .sk-estimator-doc-link:hover,\n",
              ".sk-estimator-doc-link:hover {\n",
              "  /* unfitted */\n",
              "  background-color: var(--sklearn-color-unfitted-level-3);\n",
              "  color: var(--sklearn-color-background);\n",
              "  text-decoration: none;\n",
              "}\n",
              "\n",
              "div.sk-estimator.fitted:hover .sk-estimator-doc-link.fitted:hover,\n",
              ".sk-estimator-doc-link.fitted:hover,\n",
              "div.sk-label-container:hover .sk-estimator-doc-link.fitted:hover,\n",
              ".sk-estimator-doc-link.fitted:hover {\n",
              "  /* fitted */\n",
              "  background-color: var(--sklearn-color-fitted-level-3);\n",
              "  color: var(--sklearn-color-background);\n",
              "  text-decoration: none;\n",
              "}\n",
              "\n",
              "/* Span, style for the box shown on hovering the info icon */\n",
              ".sk-estimator-doc-link span {\n",
              "  display: none;\n",
              "  z-index: 9999;\n",
              "  position: relative;\n",
              "  font-weight: normal;\n",
              "  right: .2ex;\n",
              "  padding: .5ex;\n",
              "  margin: .5ex;\n",
              "  width: min-content;\n",
              "  min-width: 20ex;\n",
              "  max-width: 50ex;\n",
              "  color: var(--sklearn-color-text);\n",
              "  box-shadow: 2pt 2pt 4pt #999;\n",
              "  /* unfitted */\n",
              "  background: var(--sklearn-color-unfitted-level-0);\n",
              "  border: .5pt solid var(--sklearn-color-unfitted-level-3);\n",
              "}\n",
              "\n",
              ".sk-estimator-doc-link.fitted span {\n",
              "  /* fitted */\n",
              "  background: var(--sklearn-color-fitted-level-0);\n",
              "  border: var(--sklearn-color-fitted-level-3);\n",
              "}\n",
              "\n",
              ".sk-estimator-doc-link:hover span {\n",
              "  display: block;\n",
              "}\n",
              "\n",
              "/* \"?\"-specific style due to the `<a>` HTML tag */\n",
              "\n",
              "#sk-container-id-1 a.estimator_doc_link {\n",
              "  float: right;\n",
              "  font-size: 1rem;\n",
              "  line-height: 1em;\n",
              "  font-family: monospace;\n",
              "  background-color: var(--sklearn-color-background);\n",
              "  border-radius: 1rem;\n",
              "  height: 1rem;\n",
              "  width: 1rem;\n",
              "  text-decoration: none;\n",
              "  /* unfitted */\n",
              "  color: var(--sklearn-color-unfitted-level-1);\n",
              "  border: var(--sklearn-color-unfitted-level-1) 1pt solid;\n",
              "}\n",
              "\n",
              "#sk-container-id-1 a.estimator_doc_link.fitted {\n",
              "  /* fitted */\n",
              "  border: var(--sklearn-color-fitted-level-1) 1pt solid;\n",
              "  color: var(--sklearn-color-fitted-level-1);\n",
              "}\n",
              "\n",
              "/* On hover */\n",
              "#sk-container-id-1 a.estimator_doc_link:hover {\n",
              "  /* unfitted */\n",
              "  background-color: var(--sklearn-color-unfitted-level-3);\n",
              "  color: var(--sklearn-color-background);\n",
              "  text-decoration: none;\n",
              "}\n",
              "\n",
              "#sk-container-id-1 a.estimator_doc_link.fitted:hover {\n",
              "  /* fitted */\n",
              "  background-color: var(--sklearn-color-fitted-level-3);\n",
              "}\n",
              "</style><div id=\"sk-container-id-1\" class=\"sk-top-container\"><div class=\"sk-text-repr-fallback\"><pre>DecisionTreeClassifier(criterion=&#x27;entropy&#x27;, max_depth=4, random_state=0)</pre><b>In a Jupyter environment, please rerun this cell to show the HTML representation or trust the notebook. <br />On GitHub, the HTML representation is unable to render, please try loading this page with nbviewer.org.</b></div><div class=\"sk-container\" hidden><div class=\"sk-item\"><div class=\"sk-estimator  sk-toggleable\"><input class=\"sk-toggleable__control sk-hidden--visually\" id=\"sk-estimator-id-1\" type=\"checkbox\" checked><label for=\"sk-estimator-id-1\" class=\"sk-toggleable__label  sk-toggleable__label-arrow \">&nbsp;&nbsp;DecisionTreeClassifier<a class=\"sk-estimator-doc-link \" rel=\"noreferrer\" target=\"_blank\" href=\"https://scikit-learn.org/1.5/modules/generated/sklearn.tree.DecisionTreeClassifier.html\">?<span>Documentation for DecisionTreeClassifier</span></a><span class=\"sk-estimator-doc-link \">i<span>Not fitted</span></span></label><div class=\"sk-toggleable__content \"><pre>DecisionTreeClassifier(criterion=&#x27;entropy&#x27;, max_depth=4, random_state=0)</pre></div> </div></div></div></div>"
            ],
            "text/plain": [
              "DecisionTreeClassifier(criterion='entropy', max_depth=4, random_state=0)"
            ]
          },
          "execution_count": 29,
          "metadata": {},
          "output_type": "execute_result"
        }
      ],
      "source": [
        "# Creación del objeto de arbol de decisión. Utilicemos como criterio de pureza la entropía.\n",
        "arbol = DecisionTreeClassifier(criterion='entropy', max_depth = 4, random_state = 0)\n",
        "arbol"
      ]
    },
    {
      "cell_type": "code",
      "execution_count": 30,
      "metadata": {
        "id": "n8xXqsrQszcT"
      },
      "outputs": [],
      "source": [
        "# Entrenamiento del modelo de arbol de decisión con los datos de entrenamiento.\n",
        "arbol = arbol.fit(X_train,Y_train)"
      ]
    },
    {
      "cell_type": "markdown",
      "metadata": {
        "id": "46dmCjilszcU"
      },
      "source": [
        "![image.png](attachment:image.png)"
      ]
    },
    {
      "cell_type": "code",
      "execution_count": 31,
      "metadata": {
        "id": "cFUgNCARszcV"
      },
      "outputs": [],
      "source": [
        "# Determinamos las predicciones del modelo sobre el conjunto test.\n",
        "y_pred = arbol.predict(X_test)"
      ]
    },
    {
      "cell_type": "code",
      "execution_count": 32,
      "metadata": {
        "id": "umFGvNslszcV"
      },
      "outputs": [],
      "source": [
        "# Se genera la matriz de confusión\n",
        "cm = confusion_matrix(Y_test, y_pred)"
      ]
    },
    {
      "cell_type": "code",
      "execution_count": 33,
      "metadata": {
        "colab": {
          "base_uri": "https://localhost:8080/",
          "height": 449
        },
        "id": "_WYsbqTEszcV",
        "outputId": "58073999-1421-4137-c72f-fbe8d8be138e"
      },
      "outputs": [
        {
          "data": {
            "image/png": "[encoded data removed]",
            "text/plain": [
              "<Figure size 640x480 with 2 Axes>"
            ]
          },
          "metadata": {},
          "output_type": "display_data"
        }
      ],
      "source": [
        "# Se puede visualizar la matriz de confusión\n",
        "#plot_confusion_matrix(arbol, X_test, Y_test)\n",
        "disp = ConfusionMatrixDisplay(confusion_matrix=cm, display_labels=arbol.classes_)\n",
        "disp.plot(cmap=plt.cm.Blues)\n",
        "\n",
        "plt.show()"
      ]
    },
    {
      "cell_type": "markdown",
      "metadata": {
        "id": "IoMjJJF7szcW"
      },
      "source": [
        "También podemos generar diferentes métricas de rendimiento como la exactitud, el recall, la precisión y la puntuación F1.  Entendamos cada una de ellas."
      ]
    },
    {
      "cell_type": "markdown",
      "metadata": {
        "id": "XHVaGFARszcW"
      },
      "source": [
        "![image.png](attachment:image.png)"
      ]
    },
    {
      "cell_type": "code",
      "execution_count": 34,
      "metadata": {
        "colab": {
          "base_uri": "https://localhost:8080/"
        },
        "id": "s2fRY9PhszcW",
        "outputId": "db832ba9-836d-4376-b671-043a4d470faf"
      },
      "outputs": [
        {
          "name": "stdout",
          "output_type": "stream",
          "text": [
            "Exactitud: 0.84\n",
            "Recall: 0.22448979591836735\n",
            "Precisión: 0.5789473684210527\n",
            "Puntuación F1: 0.3235294117647059\n"
          ]
        }
      ],
      "source": [
        "print('Exactitud: %.2f' % accuracy_score(Y_test, y_pred))\n",
        "print(\"Recall: {}\".format(recall_score(Y_test,y_pred)))\n",
        "print(\"Precisión: {}\".format(precision_score(Y_test,y_pred)))\n",
        "print(\"Puntuación F1: {}\".format(f1_score(Y_test,y_pred)))"
      ]
    },
    {
      "cell_type": "markdown",
      "metadata": {
        "id": "jQpycb80szcX"
      },
      "source": [
        "Para tener una panorama completo podemos generar un reporte."
      ]
    },
    {
      "cell_type": "code",
      "execution_count": 35,
      "metadata": {
        "colab": {
          "base_uri": "https://localhost:8080/"
        },
        "id": "TGmDCVlgszcX",
        "outputId": "79a90ae9-1c23-4757-b76a-de16810d7d5d"
      },
      "outputs": [
        {
          "name": "stdout",
          "output_type": "stream",
          "text": [
            "              precision    recall  f1-score   support\n",
            "\n",
            "           0       0.86      0.97      0.91       245\n",
            "           1       0.58      0.22      0.32        49\n",
            "\n",
            "    accuracy                           0.84       294\n",
            "   macro avg       0.72      0.60      0.62       294\n",
            "weighted avg       0.81      0.84      0.81       294\n",
            "\n"
          ]
        }
      ],
      "source": [
        "# Mostrar reporte de clasificación\n",
        "print(classification_report(Y_test, y_pred))"
      ]
    },
    {
      "cell_type": "code",
      "execution_count": 36,
      "metadata": {
        "colab": {
          "base_uri": "https://localhost:8080/"
        },
        "id": "sFVidUaZszcY",
        "outputId": "00e2f135-b354-449d-c095-4d15de129ed5"
      },
      "outputs": [
        {
          "name": "stdout",
          "output_type": "stream",
          "text": [
            "Exactitud: 0.87\n",
            "Recall: 0.28191489361702127\n",
            "Precisión: 0.7464788732394366\n",
            "Puntuación F1: 0.4092664092664093\n"
          ]
        }
      ],
      "source": [
        "# Calculemos también las métricas de rendimiento sobre el conjunto de entrenamiento.\n",
        "y_pred = arbol.predict(X_train)\n",
        "print('Exactitud: %.2f' % accuracy_score(Y_train, y_pred))\n",
        "print(\"Recall: {}\".format(recall_score(Y_train,y_pred)))\n",
        "print(\"Precisión: {}\".format(precision_score(Y_train,y_pred)))\n",
        "print(\"Puntuación F1: {}\".format(f1_score(Y_train,y_pred)))"
      ]
    },
    {
      "cell_type": "markdown",
      "metadata": {
        "id": "bk7oDDBtszcY"
      },
      "source": [
        "Observa que hay un gran diferencia en los valores de las métricas de rendimiento sobre el conjunto de entrenamiento y sobre el conjunto test ¿Por qué crees que se produce este fenómeno?"
      ]
    },
    {
      "cell_type": "markdown",
      "metadata": {
        "id": "o4TFjnojszcY"
      },
      "source": [
        "![image.png](attachment:image.png)"
      ]
    },
    {
      "cell_type": "markdown",
      "metadata": {
        "id": "DHYOTNDpszcY"
      },
      "source": [
        "Tomar en cuenta:"
      ]
    },
    {
      "cell_type": "markdown",
      "metadata": {
        "id": "5TMWYhujszcY"
      },
      "source": [
        "![image.png](attachment:image.png)"
      ]
    },
    {
      "cell_type": "markdown",
      "metadata": {
        "id": "A7_kRHGCszcZ"
      },
      "source": [
        "### 4.1. Interpretación del modelo. Aplica para árboles de decisión.\n",
        "Podemos determinar cuáles atributos son los más importantes a partir del modelo generado. Recuerda que estos algoritmos realizan una selección en cada paso de construcción del árbol con base en la medida de pureza."
      ]
    },
    {
      "cell_type": "code",
      "execution_count": 37,
      "metadata": {
        "colab": {
          "base_uri": "https://localhost:8080/"
        },
        "id": "Vp9UHdsGszcZ",
        "outputId": "1cb84106-027f-4934-8a2c-f86179f8d997"
      },
      "outputs": [
        {
          "data": {
            "text/plain": [
              "array([0.09736096, 0.03056424, 0.05963036, 0.        , 0.20342009,\n",
              "       0.07781969, 0.        , 0.05054193, 0.07675305, 0.        ,\n",
              "       0.        , 0.03069571, 0.        , 0.        , 0.02417023,\n",
              "       0.        , 0.        , 0.        , 0.04383135, 0.07277094,\n",
              "       0.18058819, 0.05185325])"
            ]
          },
          "execution_count": 37,
          "metadata": {},
          "output_type": "execute_result"
        }
      ],
      "source": [
        "# Obtener la importancia de las variables. Para esto podemos utilizar uno de los atributos del modelo \"feature_importances_\", el\n",
        "# cual nos devuelve un coeficiente o peso para cada atributo: mientras más grande sea este más importante será la variable\n",
        "# asociada.\n",
        "importancia= arbol.feature_importances_\n",
        "importancia"
      ]
    },
    {
      "cell_type": "markdown",
      "metadata": {
        "id": "uZb34X8SszcZ"
      },
      "source": [
        "También podemos ordenar y tabular estos coeficientes para facilitar la interpretación."
      ]
    },
    {
      "cell_type": "code",
      "execution_count": 38,
      "metadata": {
        "colab": {
          "base_uri": "https://localhost:8080/",
          "height": 739
        },
        "id": "oc88s0z_szcZ",
        "outputId": "345021d8-d4e9-4aa4-9af8-d06ae6db4ba1"
      },
      "outputs": [
        {
          "data": {
            "text/html": [
              "<div>\n",
              "<style scoped>\n",
              "    .dataframe tbody tr th:only-of-type {\n",
              "        vertical-align: middle;\n",
              "    }\n",
              "\n",
              "    .dataframe tbody tr th {\n",
              "        vertical-align: top;\n",
              "    }\n",
              "\n",
              "    .dataframe thead th {\n",
              "        text-align: right;\n",
              "    }\n",
              "</style>\n",
              "<table border=\"1\" class=\"dataframe\">\n",
              "  <thead>\n",
              "    <tr style=\"text-align: right;\">\n",
              "      <th></th>\n",
              "      <th>Atributo</th>\n",
              "      <th>Importancia</th>\n",
              "    </tr>\n",
              "  </thead>\n",
              "  <tbody>\n",
              "    <tr>\n",
              "      <th>0</th>\n",
              "      <td>Salario_mensual</td>\n",
              "      <td>0.203420</td>\n",
              "    </tr>\n",
              "    <tr>\n",
              "      <th>1</th>\n",
              "      <td>Sobretiempo_NO</td>\n",
              "      <td>0.180588</td>\n",
              "    </tr>\n",
              "    <tr>\n",
              "      <th>2</th>\n",
              "      <td>Edad</td>\n",
              "      <td>0.097361</td>\n",
              "    </tr>\n",
              "    <tr>\n",
              "      <th>3</th>\n",
              "      <td>No_Compañías_anteriores</td>\n",
              "      <td>0.077820</td>\n",
              "    </tr>\n",
              "    <tr>\n",
              "      <th>4</th>\n",
              "      <td>Antigüedad</td>\n",
              "      <td>0.076753</td>\n",
              "    </tr>\n",
              "    <tr>\n",
              "      <th>5</th>\n",
              "      <td>Estatus_marital_Soltero</td>\n",
              "      <td>0.072771</td>\n",
              "    </tr>\n",
              "    <tr>\n",
              "      <th>6</th>\n",
              "      <td>Satisfacción_ambiente</td>\n",
              "      <td>0.059630</td>\n",
              "    </tr>\n",
              "    <tr>\n",
              "      <th>7</th>\n",
              "      <td>Sobretiempo_SI</td>\n",
              "      <td>0.051853</td>\n",
              "    </tr>\n",
              "    <tr>\n",
              "      <th>8</th>\n",
              "      <td>Años_trabajo</td>\n",
              "      <td>0.050542</td>\n",
              "    </tr>\n",
              "    <tr>\n",
              "      <th>9</th>\n",
              "      <td>Estatus_marital_Divorciado</td>\n",
              "      <td>0.043831</td>\n",
              "    </tr>\n",
              "    <tr>\n",
              "      <th>10</th>\n",
              "      <td>Años_manager_actual</td>\n",
              "      <td>0.030696</td>\n",
              "    </tr>\n",
              "    <tr>\n",
              "      <th>11</th>\n",
              "      <td>Distacia_desde_casa</td>\n",
              "      <td>0.030564</td>\n",
              "    </tr>\n",
              "    <tr>\n",
              "      <th>12</th>\n",
              "      <td>Viaje_negocio_Ocasional</td>\n",
              "      <td>0.024170</td>\n",
              "    </tr>\n",
              "    <tr>\n",
              "      <th>13</th>\n",
              "      <td>Nivel_trabajo</td>\n",
              "      <td>0.000000</td>\n",
              "    </tr>\n",
              "    <tr>\n",
              "      <th>14</th>\n",
              "      <td>Viaje_negocio_No-viaja</td>\n",
              "      <td>0.000000</td>\n",
              "    </tr>\n",
              "    <tr>\n",
              "      <th>15</th>\n",
              "      <td>Viaje_negocio_Frecuentemente</td>\n",
              "      <td>0.000000</td>\n",
              "    </tr>\n",
              "    <tr>\n",
              "      <th>16</th>\n",
              "      <td>Última_promoción</td>\n",
              "      <td>0.000000</td>\n",
              "    </tr>\n",
              "    <tr>\n",
              "      <th>17</th>\n",
              "      <td>Años_cargo_actual</td>\n",
              "      <td>0.000000</td>\n",
              "    </tr>\n",
              "    <tr>\n",
              "      <th>18</th>\n",
              "      <td>Satisfacción_relaciones</td>\n",
              "      <td>0.000000</td>\n",
              "    </tr>\n",
              "    <tr>\n",
              "      <th>19</th>\n",
              "      <td>Estatus_marital_Casado</td>\n",
              "      <td>0.000000</td>\n",
              "    </tr>\n",
              "    <tr>\n",
              "      <th>20</th>\n",
              "      <td>Género_Femenino</td>\n",
              "      <td>0.000000</td>\n",
              "    </tr>\n",
              "    <tr>\n",
              "      <th>21</th>\n",
              "      <td>Género_Masculino</td>\n",
              "      <td>0.000000</td>\n",
              "    </tr>\n",
              "  </tbody>\n",
              "</table>\n",
              "</div>"
            ],
            "text/plain": [
              "                        Atributo  Importancia\n",
              "0                Salario_mensual     0.203420\n",
              "1                 Sobretiempo_NO     0.180588\n",
              "2                           Edad     0.097361\n",
              "3        No_Compañías_anteriores     0.077820\n",
              "4                     Antigüedad     0.076753\n",
              "5        Estatus_marital_Soltero     0.072771\n",
              "6          Satisfacción_ambiente     0.059630\n",
              "7                 Sobretiempo_SI     0.051853\n",
              "8                   Años_trabajo     0.050542\n",
              "9     Estatus_marital_Divorciado     0.043831\n",
              "10           Años_manager_actual     0.030696\n",
              "11           Distacia_desde_casa     0.030564\n",
              "12       Viaje_negocio_Ocasional     0.024170\n",
              "13                 Nivel_trabajo     0.000000\n",
              "14        Viaje_negocio_No-viaja     0.000000\n",
              "15  Viaje_negocio_Frecuentemente     0.000000\n",
              "16              Última_promoción     0.000000\n",
              "17             Años_cargo_actual     0.000000\n",
              "18       Satisfacción_relaciones     0.000000\n",
              "19        Estatus_marital_Casado     0.000000\n",
              "20               Género_Femenino     0.000000\n",
              "21              Género_Masculino     0.000000"
            ]
          },
          "execution_count": 38,
          "metadata": {},
          "output_type": "execute_result"
        }
      ],
      "source": [
        "importancia_atributo = pd.DataFrame(data={\"Atributo\": X_train.columns,\"Importancia\": importancia})\n",
        "importancia_atributo = importancia_atributo.sort_values(by='Importancia', ascending=False).reset_index(drop=True)\n",
        "importancia_atributo"
      ]
    },
    {
      "cell_type": "markdown",
      "metadata": {
        "id": "ViVcSTfzszcZ"
      },
      "source": [
        "Ahora vamos a graficar el modelo. Para propósitos de visualización limitaremos la profundidad del árbol a 3."
      ]
    },
    {
      "cell_type": "code",
      "execution_count": 39,
      "metadata": {
        "colab": {
          "base_uri": "https://localhost:8080/",
          "height": 531
        },
        "id": "ruY35QQFszca",
        "outputId": "54543b97-31fa-4f1e-9947-8abd084e3816"
      },
      "outputs": [
        {
          "data": {
            "image/png": "[encoded data removed]",
            "text/plain": [
              "<Figure size 2500x1000 with 1 Axes>"
            ]
          },
          "metadata": {},
          "output_type": "display_data"
        }
      ],
      "source": [
        "fig = plt.figure(figsize=(25,10))\n",
        "_ = tree.plot_tree(arbol, max_depth=arbol.get_depth(), feature_names=X.columns, class_names=[\"0\", \"1\"], filled=True, fontsize=9)"
      ]
    },
    {
      "cell_type": "code",
      "execution_count": 40,
      "metadata": {
        "id": "1jul06YIszca"
      },
      "outputs": [],
      "source": [
        "# También podemos guardar esta figura como una imagen.\n",
        "fig.savefig(\"decistion_tree.png\")"
      ]
    },
    {
      "cell_type": "markdown",
      "metadata": {
        "id": "QbVA27buszca"
      },
      "source": [
        "### 6. Construcción del modelo con búsqueda de hiperparámetros.\n",
        "En el caso de los árboles de decisión los hiperparámetros principales que hay que ajustar están relacionados con aquellos que controlan la complejidad, pero también el criterio o medida de pureza puede afectar su rendimiento. En general, estos son:  \n",
        "\n",
        "* **criterion** : {“gini”, “entropy”}, predeterminado = \"gini\".\n",
        "\n",
        "La función para medir la calidad de una división. Los criterios admitidos son \"gini\" y \"entropía\".\n",
        "\n",
        "* **max_depth:** int, predeterminado=None.\n",
        "\n",
        "La profundidad máxima del árbol. Si es None, los nodos se expanden hasta que todas las hojas sean puras o hasta que todas las hojas contengan menos de min_samples_split muestras.\n",
        "\n",
        "* **min_samples_split** : int or float, predeterminado=2.\n",
        "\n",
        "El número mínimo de muestras necesarias para dividir un nodo interno.\n"
      ]
    },
    {
      "cell_type": "markdown",
      "metadata": {
        "id": "CBrh7iprszcb"
      },
      "source": [
        "¿Cómo saber los mejores valores de los hiperparámetro de un algoritmo? Estos hay que ajustarlo a los datos y no podemos utilizar el conjunto test para realizar esta tarea. Debemos entonces recurrir a las técnicas de validación las cuales, en general, puedes implementarlas de dos maneras: utilizando un conjunto de validación o empleando la validación cruzada de k particiones (k-fold cross validation).\n",
        "\n",
        "a) Con un conjunto de validación. Si utilizas esta vía el conjunto de entrenamiento hay que dividirlo en dos: uno para la construcción del modelo (sería el nuevo conjunto de entrenamiento) y el otro para la validación (para determinar los valores de los hiperparámetros y complejidad).\n"
      ]
    },
    {
      "cell_type": "markdown",
      "metadata": {
        "id": "Tism6rSaszcb"
      },
      "source": [
        "![image.png](attachment:image.png)"
      ]
    },
    {
      "cell_type": "code",
      "execution_count": 41,
      "metadata": {
        "id": "2mBKBQUcszcb"
      },
      "outputs": [],
      "source": [
        "# Dividimos el conjunto de entrenamiento en dos: una para la construcción del modelo (sería el nuevo conjunto de\n",
        "# entrenamiento) y otro para la validación, el cuál será utilizado para determinar el rendimiento del modelo con una\n",
        "# combinación específica de hiperparámetros.\n",
        "X_trainval, X_val, Y_trainval, Y_val = train_test_split(X_train, Y_train, test_size = 0.15, random_state = 0)"
      ]
    },
    {
      "cell_type": "code",
      "execution_count": 42,
      "metadata": {
        "id": "7lEqt-Cfszcb"
      },
      "outputs": [],
      "source": [
        "# Fijemos un valor de max_depth en 2, construyamos el modelo y probemos sobre validación. Utilicemos la exactitud como métrica\n",
        "# de rendimiento para hacer la selección. Te sugerimos como ejercicio autónomo utilizar como métrica f1-score y justiricar su uso\n",
        "arbol = DecisionTreeClassifier(criterion='entropy', max_depth = 2, random_state=0)\n",
        "arbol = arbol.fit(X_trainval,Y_trainval)"
      ]
    },
    {
      "cell_type": "code",
      "execution_count": 43,
      "metadata": {
        "colab": {
          "base_uri": "https://localhost:8080/"
        },
        "id": "eJWU1X3-szcb",
        "outputId": "3d5c223e-b6de-4202-8f46-22b5edecff04"
      },
      "outputs": [
        {
          "name": "stdout",
          "output_type": "stream",
          "text": [
            "Exactitud sobre entrenamiento: 0.85\n",
            "Exactitud sobre validación: 0.81\n"
          ]
        }
      ],
      "source": [
        "# Determinemos los valores de exactitud sobre entrenamiento y test\n",
        "y_pred_train = arbol.predict(X_trainval)\n",
        "y_pred_val = arbol.predict(X_val)\n",
        "print('Exactitud sobre entrenamiento: %.2f' % accuracy_score(Y_trainval, y_pred_train))\n",
        "print('Exactitud sobre validación: %.2f' % accuracy_score(Y_val, y_pred_val))"
      ]
    },
    {
      "cell_type": "code",
      "execution_count": 44,
      "metadata": {
        "colab": {
          "base_uri": "https://localhost:8080/"
        },
        "id": "zzszxG2uszcb",
        "outputId": "21367856-5f02-499c-db26-a61d4c334413"
      },
      "outputs": [
        {
          "name": "stdout",
          "output_type": "stream",
          "text": [
            "Exactitud sobre entrenamiento: 0.91\n",
            "Exactitud sobre test: 0.82\n"
          ]
        }
      ],
      "source": [
        "# Ahora probemos con otro valor de profundidad de árbol.\n",
        "arbol = DecisionTreeClassifier(criterion='entropy', max_depth = 6, random_state=0)\n",
        "arbol = arbol.fit(X_trainval,Y_trainval)\n",
        "y_pred_train = arbol.predict(X_trainval)\n",
        "y_pred_val = arbol.predict(X_val)\n",
        "print('Exactitud sobre entrenamiento: %.2f' % accuracy_score(Y_trainval, y_pred_train))\n",
        "print('Exactitud sobre test: %.2f' % accuracy_score(Y_val, y_pred_val))"
      ]
    },
    {
      "cell_type": "code",
      "execution_count": 45,
      "metadata": {
        "colab": {
          "base_uri": "https://localhost:8080/"
        },
        "id": "XXEwL6prszcc",
        "outputId": "0e81c1d1-96ba-4794-ca9d-4947e0c3dc46"
      },
      "outputs": [
        {
          "name": "stdout",
          "output_type": "stream",
          "text": [
            "Exactitud sobre entrenamiento: 0.94\n",
            "Exactitud sobre test: 0.83\n"
          ]
        }
      ],
      "source": [
        "# Ahora probemos con otro valor de profundidad de árbol.\n",
        "arbol = DecisionTreeClassifier(criterion='entropy', max_depth = 8, random_state=0)\n",
        "arbol = arbol.fit(X_trainval,Y_trainval)\n",
        "y_pred_train = arbol.predict(X_trainval)\n",
        "y_pred_val = arbol.predict(X_val)\n",
        "print('Exactitud sobre entrenamiento: %.2f' % accuracy_score(Y_trainval, y_pred_train))\n",
        "print('Exactitud sobre test: %.2f' % accuracy_score(Y_val, y_pred_val))"
      ]
    },
    {
      "cell_type": "code",
      "execution_count": 46,
      "metadata": {
        "colab": {
          "base_uri": "https://localhost:8080/"
        },
        "id": "NNAcMBxYszcc",
        "outputId": "7a327ec7-354a-494e-8f62-1d29a2ab4805"
      },
      "outputs": [
        {
          "name": "stdout",
          "output_type": "stream",
          "text": [
            "Exactitud sobre entrenamiento: 0.97\n",
            "Exactitud sobre test: 0.82\n"
          ]
        }
      ],
      "source": [
        "# Ahora probemos con otro valor de profundidad de árbol.\n",
        "arbol = DecisionTreeClassifier(criterion='entropy', max_depth = 10, random_state=0)\n",
        "arbol = arbol.fit(X_trainval,Y_trainval)\n",
        "y_pred_train = arbol.predict(X_trainval)\n",
        "y_pred_val = arbol.predict(X_val)\n",
        "print('Exactitud sobre entrenamiento: %.2f' % accuracy_score(Y_trainval, y_pred_train))\n",
        "print('Exactitud sobre test: %.2f' % accuracy_score(Y_val, y_pred_val))"
      ]
    },
    {
      "cell_type": "code",
      "execution_count": 47,
      "metadata": {
        "colab": {
          "base_uri": "https://localhost:8080/"
        },
        "id": "Wtu_9KBOszcc",
        "outputId": "cac55117-c4b4-4706-98c8-e7241c3a562b"
      },
      "outputs": [
        {
          "name": "stdout",
          "output_type": "stream",
          "text": [
            "Exactitud sobre entrenamiento: 1.00\n",
            "Exactitud sobre test: 0.81\n"
          ]
        }
      ],
      "source": [
        "# Ahora probemos con otro valor de profundidad de árbol.\n",
        "arbol = DecisionTreeClassifier(criterion='entropy', max_depth = 20, random_state=0)\n",
        "arbol = arbol.fit(X_trainval,Y_trainval)\n",
        "y_pred_train = arbol.predict(X_trainval)\n",
        "y_pred_val = arbol.predict(X_val)\n",
        "print('Exactitud sobre entrenamiento: %.2f' % accuracy_score(Y_trainval, y_pred_train))\n",
        "print('Exactitud sobre test: %.2f' % accuracy_score(Y_val, y_pred_val))"
      ]
    },
    {
      "cell_type": "markdown",
      "metadata": {
        "id": "uaYmHgnvszcd"
      },
      "source": [
        "¿Cuál crees que debería ser la máxima profundidad del árbol para nuestro problema?"
      ]
    },
    {
      "cell_type": "markdown",
      "metadata": {
        "id": "lHooqKj3szcd"
      },
      "source": [
        "Ahora utilicemos la otra opción.\n",
        "\n",
        "b) Validación cruzada de k-particiones. En este caso el conjunto de entrenamiento se divide en k particiones disjuntas. Luego, se fija un valor de hiperparámetro y se toma como conjunto de validación la primera partición y el resto para entrenar el modelo. Este proceso se repite para cada partición. Al finalizar, se determina el valor promedio de las métricas seleccionadas. Este ciclo se repite sobre diferentes valores del hiperparámetro y se seleccionan aquel que ofrezcan el mejor rendimiento."
      ]
    },
    {
      "cell_type": "markdown",
      "metadata": {
        "id": "BdKemC8pszcd"
      },
      "source": [
        "![image.png](attachment:image.png)"
      ]
    },
    {
      "cell_type": "markdown",
      "metadata": {
        "id": "0v1N_N5oszcd"
      },
      "source": [
        "Scikit-learn ofrece algunos métodos que automatizan el proceso de buscar los valores de los hiperparámetros. Uno de ellos es GridSearchCV, el cual se basa en la validación cruzada de k-particiones. Veamos cómo utilizarlo."
      ]
    },
    {
      "cell_type": "code",
      "execution_count": 48,
      "metadata": {
        "id": "UQ0T9dNsszcd"
      },
      "outputs": [],
      "source": [
        "# Fijemos el número de particiones. Utilizaremos K = 10.\n",
        "particiones = KFold(n_splits=10, shuffle=True, random_state = 0)"
      ]
    },
    {
      "cell_type": "code",
      "execution_count": 49,
      "metadata": {
        "id": "0184dsVjszcd"
      },
      "outputs": [],
      "source": [
        "# Establecemos el espacio de búsqueda para los hiperparámetros que deseamos ajustar.\n",
        "param_grid = {'criterion':['gini', 'entropy'],'max_depth':[4,6,8,10,20]}"
      ]
    },
    {
      "cell_type": "code",
      "execution_count": 50,
      "metadata": {
        "id": "dmu4qR7Bszcd"
      },
      "outputs": [],
      "source": [
        "# Definimos el modelo sin ningún valor de estos hiperparámetros\n",
        "arbol = DecisionTreeClassifier(random_state=0)"
      ]
    },
    {
      "cell_type": "code",
      "execution_count": 51,
      "metadata": {
        "colab": {
          "base_uri": "https://localhost:8080/",
          "height": 117
        },
        "id": "04GinLIvszcd",
        "outputId": "94f343a5-27e9-4fcd-e98d-e13587d6b4c6"
      },
      "outputs": [
        {
          "data": {
            "text/html": [
              "<style>#sk-container-id-2 {\n",
              "  /* Definition of color scheme common for light and dark mode */\n",
              "  --sklearn-color-text: black;\n",
              "  --sklearn-color-line: gray;\n",
              "  /* Definition of color scheme for unfitted estimators */\n",
              "  --sklearn-color-unfitted-level-0: #fff5e6;\n",
              "  --sklearn-color-unfitted-level-1: #f6e4d2;\n",
              "  --sklearn-color-unfitted-level-2: #ffe0b3;\n",
              "  --sklearn-color-unfitted-level-3: chocolate;\n",
              "  /* Definition of color scheme for fitted estimators */\n",
              "  --sklearn-color-fitted-level-0: #f0f8ff;\n",
              "  --sklearn-color-fitted-level-1: #d4ebff;\n",
              "  --sklearn-color-fitted-level-2: #b3dbfd;\n",
              "  --sklearn-color-fitted-level-3: cornflowerblue;\n",
              "\n",
              "  /* Specific color for light theme */\n",
              "  --sklearn-color-text-on-default-background: var(--sg-text-color, var(--theme-code-foreground, var(--jp-content-font-color1, black)));\n",
              "  --sklearn-color-background: var(--sg-background-color, var(--theme-background, var(--jp-layout-color0, white)));\n",
              "  --sklearn-color-border-box: var(--sg-text-color, var(--theme-code-foreground, var(--jp-content-font-color1, black)));\n",
              "  --sklearn-color-icon: #696969;\n",
              "\n",
              "  @media (prefers-color-scheme: dark) {\n",
              "    /* Redefinition of color scheme for dark theme */\n",
              "    --sklearn-color-text-on-default-background: var(--sg-text-color, var(--theme-code-foreground, var(--jp-content-font-color1, white)));\n",
              "    --sklearn-color-background: var(--sg-background-color, var(--theme-background, var(--jp-layout-color0, #111)));\n",
              "    --sklearn-color-border-box: var(--sg-text-color, var(--theme-code-foreground, var(--jp-content-font-color1, white)));\n",
              "    --sklearn-color-icon: #878787;\n",
              "  }\n",
              "}\n",
              "\n",
              "#sk-container-id-2 {\n",
              "  color: var(--sklearn-color-text);\n",
              "}\n",
              "\n",
              "#sk-container-id-2 pre {\n",
              "  padding: 0;\n",
              "}\n",
              "\n",
              "#sk-container-id-2 input.sk-hidden--visually {\n",
              "  border: 0;\n",
              "  clip: rect(1px 1px 1px 1px);\n",
              "  clip: rect(1px, 1px, 1px, 1px);\n",
              "  height: 1px;\n",
              "  margin: -1px;\n",
              "  overflow: hidden;\n",
              "  padding: 0;\n",
              "  position: absolute;\n",
              "  width: 1px;\n",
              "}\n",
              "\n",
              "#sk-container-id-2 div.sk-dashed-wrapped {\n",
              "  border: 1px dashed var(--sklearn-color-line);\n",
              "  margin: 0 0.4em 0.5em 0.4em;\n",
              "  box-sizing: border-box;\n",
              "  padding-bottom: 0.4em;\n",
              "  background-color: var(--sklearn-color-background);\n",
              "}\n",
              "\n",
              "#sk-container-id-2 div.sk-container {\n",
              "  /* jupyter's `normalize.less` sets `[hidden] { display: none; }`\n",
              "     but bootstrap.min.css set `[hidden] { display: none !important; }`\n",
              "     so we also need the `!important` here to be able to override the\n",
              "     default hidden behavior on the sphinx rendered scikit-learn.org.\n",
              "     See: https://github.com/scikit-learn/scikit-learn/issues/21755 */\n",
              "  display: inline-block !important;\n",
              "  position: relative;\n",
              "}\n",
              "\n",
              "#sk-container-id-2 div.sk-text-repr-fallback {\n",
              "  display: none;\n",
              "}\n",
              "\n",
              "div.sk-parallel-item,\n",
              "div.sk-serial,\n",
              "div.sk-item {\n",
              "  /* draw centered vertical line to link estimators */\n",
              "  background-image: linear-gradient(var(--sklearn-color-text-on-default-background), var(--sklearn-color-text-on-default-background));\n",
              "  background-size: 2px 100%;\n",
              "  background-repeat: no-repeat;\n",
              "  background-position: center center;\n",
              "}\n",
              "\n",
              "/* Parallel-specific style estimator block */\n",
              "\n",
              "#sk-container-id-2 div.sk-parallel-item::after {\n",
              "  content: \"\";\n",
              "  width: 100%;\n",
              "  border-bottom: 2px solid var(--sklearn-color-text-on-default-background);\n",
              "  flex-grow: 1;\n",
              "}\n",
              "\n",
              "#sk-container-id-2 div.sk-parallel {\n",
              "  display: flex;\n",
              "  align-items: stretch;\n",
              "  justify-content: center;\n",
              "  background-color: var(--sklearn-color-background);\n",
              "  position: relative;\n",
              "}\n",
              "\n",
              "#sk-container-id-2 div.sk-parallel-item {\n",
              "  display: flex;\n",
              "  flex-direction: column;\n",
              "}\n",
              "\n",
              "#sk-container-id-2 div.sk-parallel-item:first-child::after {\n",
              "  align-self: flex-end;\n",
              "  width: 50%;\n",
              "}\n",
              "\n",
              "#sk-container-id-2 div.sk-parallel-item:last-child::after {\n",
              "  align-self: flex-start;\n",
              "  width: 50%;\n",
              "}\n",
              "\n",
              "#sk-container-id-2 div.sk-parallel-item:only-child::after {\n",
              "  width: 0;\n",
              "}\n",
              "\n",
              "/* Serial-specific style estimator block */\n",
              "\n",
              "#sk-container-id-2 div.sk-serial {\n",
              "  display: flex;\n",
              "  flex-direction: column;\n",
              "  align-items: center;\n",
              "  background-color: var(--sklearn-color-background);\n",
              "  padding-right: 1em;\n",
              "  padding-left: 1em;\n",
              "}\n",
              "\n",
              "\n",
              "/* Toggleable style: style used for estimator/Pipeline/ColumnTransformer box that is\n",
              "clickable and can be expanded/collapsed.\n",
              "- Pipeline and ColumnTransformer use this feature and define the default style\n",
              "- Estimators will overwrite some part of the style using the `sk-estimator` class\n",
              "*/\n",
              "\n",
              "/* Pipeline and ColumnTransformer style (default) */\n",
              "\n",
              "#sk-container-id-2 div.sk-toggleable {\n",
              "  /* Default theme specific background. It is overwritten whether we have a\n",
              "  specific estimator or a Pipeline/ColumnTransformer */\n",
              "  background-color: var(--sklearn-color-background);\n",
              "}\n",
              "\n",
              "/* Toggleable label */\n",
              "#sk-container-id-2 label.sk-toggleable__label {\n",
              "  cursor: pointer;\n",
              "  display: block;\n",
              "  width: 100%;\n",
              "  margin-bottom: 0;\n",
              "  padding: 0.5em;\n",
              "  box-sizing: border-box;\n",
              "  text-align: center;\n",
              "}\n",
              "\n",
              "#sk-container-id-2 label.sk-toggleable__label-arrow:before {\n",
              "  /* Arrow on the left of the label */\n",
              "  content: \"▸\";\n",
              "  float: left;\n",
              "  margin-right: 0.25em;\n",
              "  color: var(--sklearn-color-icon);\n",
              "}\n",
              "\n",
              "#sk-container-id-2 label.sk-toggleable__label-arrow:hover:before {\n",
              "  color: var(--sklearn-color-text);\n",
              "}\n",
              "\n",
              "/* Toggleable content - dropdown */\n",
              "\n",
              "#sk-container-id-2 div.sk-toggleable__content {\n",
              "  max-height: 0;\n",
              "  max-width: 0;\n",
              "  overflow: hidden;\n",
              "  text-align: left;\n",
              "  /* unfitted */\n",
              "  background-color: var(--sklearn-color-unfitted-level-0);\n",
              "}\n",
              "\n",
              "#sk-container-id-2 div.sk-toggleable__content.fitted {\n",
              "  /* fitted */\n",
              "  background-color: var(--sklearn-color-fitted-level-0);\n",
              "}\n",
              "\n",
              "#sk-container-id-2 div.sk-toggleable__content pre {\n",
              "  margin: 0.2em;\n",
              "  border-radius: 0.25em;\n",
              "  color: var(--sklearn-color-text);\n",
              "  /* unfitted */\n",
              "  background-color: var(--sklearn-color-unfitted-level-0);\n",
              "}\n",
              "\n",
              "#sk-container-id-2 div.sk-toggleable__content.fitted pre {\n",
              "  /* unfitted */\n",
              "  background-color: var(--sklearn-color-fitted-level-0);\n",
              "}\n",
              "\n",
              "#sk-container-id-2 input.sk-toggleable__control:checked~div.sk-toggleable__content {\n",
              "  /* Expand drop-down */\n",
              "  max-height: 200px;\n",
              "  max-width: 100%;\n",
              "  overflow: auto;\n",
              "}\n",
              "\n",
              "#sk-container-id-2 input.sk-toggleable__control:checked~label.sk-toggleable__label-arrow:before {\n",
              "  content: \"▾\";\n",
              "}\n",
              "\n",
              "/* Pipeline/ColumnTransformer-specific style */\n",
              "\n",
              "#sk-container-id-2 div.sk-label input.sk-toggleable__control:checked~label.sk-toggleable__label {\n",
              "  color: var(--sklearn-color-text);\n",
              "  background-color: var(--sklearn-color-unfitted-level-2);\n",
              "}\n",
              "\n",
              "#sk-container-id-2 div.sk-label.fitted input.sk-toggleable__control:checked~label.sk-toggleable__label {\n",
              "  background-color: var(--sklearn-color-fitted-level-2);\n",
              "}\n",
              "\n",
              "/* Estimator-specific style */\n",
              "\n",
              "/* Colorize estimator box */\n",
              "#sk-container-id-2 div.sk-estimator input.sk-toggleable__control:checked~label.sk-toggleable__label {\n",
              "  /* unfitted */\n",
              "  background-color: var(--sklearn-color-unfitted-level-2);\n",
              "}\n",
              "\n",
              "#sk-container-id-2 div.sk-estimator.fitted input.sk-toggleable__control:checked~label.sk-toggleable__label {\n",
              "  /* fitted */\n",
              "  background-color: var(--sklearn-color-fitted-level-2);\n",
              "}\n",
              "\n",
              "#sk-container-id-2 div.sk-label label.sk-toggleable__label,\n",
              "#sk-container-id-2 div.sk-label label {\n",
              "  /* The background is the default theme color */\n",
              "  color: var(--sklearn-color-text-on-default-background);\n",
              "}\n",
              "\n",
              "/* On hover, darken the color of the background */\n",
              "#sk-container-id-2 div.sk-label:hover label.sk-toggleable__label {\n",
              "  color: var(--sklearn-color-text);\n",
              "  background-color: var(--sklearn-color-unfitted-level-2);\n",
              "}\n",
              "\n",
              "/* Label box, darken color on hover, fitted */\n",
              "#sk-container-id-2 div.sk-label.fitted:hover label.sk-toggleable__label.fitted {\n",
              "  color: var(--sklearn-color-text);\n",
              "  background-color: var(--sklearn-color-fitted-level-2);\n",
              "}\n",
              "\n",
              "/* Estimator label */\n",
              "\n",
              "#sk-container-id-2 div.sk-label label {\n",
              "  font-family: monospace;\n",
              "  font-weight: bold;\n",
              "  display: inline-block;\n",
              "  line-height: 1.2em;\n",
              "}\n",
              "\n",
              "#sk-container-id-2 div.sk-label-container {\n",
              "  text-align: center;\n",
              "}\n",
              "\n",
              "/* Estimator-specific */\n",
              "#sk-container-id-2 div.sk-estimator {\n",
              "  font-family: monospace;\n",
              "  border: 1px dotted var(--sklearn-color-border-box);\n",
              "  border-radius: 0.25em;\n",
              "  box-sizing: border-box;\n",
              "  margin-bottom: 0.5em;\n",
              "  /* unfitted */\n",
              "  background-color: var(--sklearn-color-unfitted-level-0);\n",
              "}\n",
              "\n",
              "#sk-container-id-2 div.sk-estimator.fitted {\n",
              "  /* fitted */\n",
              "  background-color: var(--sklearn-color-fitted-level-0);\n",
              "}\n",
              "\n",
              "/* on hover */\n",
              "#sk-container-id-2 div.sk-estimator:hover {\n",
              "  /* unfitted */\n",
              "  background-color: var(--sklearn-color-unfitted-level-2);\n",
              "}\n",
              "\n",
              "#sk-container-id-2 div.sk-estimator.fitted:hover {\n",
              "  /* fitted */\n",
              "  background-color: var(--sklearn-color-fitted-level-2);\n",
              "}\n",
              "\n",
              "/* Specification for estimator info (e.g. \"i\" and \"?\") */\n",
              "\n",
              "/* Common style for \"i\" and \"?\" */\n",
              "\n",
              ".sk-estimator-doc-link,\n",
              "a:link.sk-estimator-doc-link,\n",
              "a:visited.sk-estimator-doc-link {\n",
              "  float: right;\n",
              "  font-size: smaller;\n",
              "  line-height: 1em;\n",
              "  font-family: monospace;\n",
              "  background-color: var(--sklearn-color-background);\n",
              "  border-radius: 1em;\n",
              "  height: 1em;\n",
              "  width: 1em;\n",
              "  text-decoration: none !important;\n",
              "  margin-left: 1ex;\n",
              "  /* unfitted */\n",
              "  border: var(--sklearn-color-unfitted-level-1) 1pt solid;\n",
              "  color: var(--sklearn-color-unfitted-level-1);\n",
              "}\n",
              "\n",
              ".sk-estimator-doc-link.fitted,\n",
              "a:link.sk-estimator-doc-link.fitted,\n",
              "a:visited.sk-estimator-doc-link.fitted {\n",
              "  /* fitted */\n",
              "  border: var(--sklearn-color-fitted-level-1) 1pt solid;\n",
              "  color: var(--sklearn-color-fitted-level-1);\n",
              "}\n",
              "\n",
              "/* On hover */\n",
              "div.sk-estimator:hover .sk-estimator-doc-link:hover,\n",
              ".sk-estimator-doc-link:hover,\n",
              "div.sk-label-container:hover .sk-estimator-doc-link:hover,\n",
              ".sk-estimator-doc-link:hover {\n",
              "  /* unfitted */\n",
              "  background-color: var(--sklearn-color-unfitted-level-3);\n",
              "  color: var(--sklearn-color-background);\n",
              "  text-decoration: none;\n",
              "}\n",
              "\n",
              "div.sk-estimator.fitted:hover .sk-estimator-doc-link.fitted:hover,\n",
              ".sk-estimator-doc-link.fitted:hover,\n",
              "div.sk-label-container:hover .sk-estimator-doc-link.fitted:hover,\n",
              ".sk-estimator-doc-link.fitted:hover {\n",
              "  /* fitted */\n",
              "  background-color: var(--sklearn-color-fitted-level-3);\n",
              "  color: var(--sklearn-color-background);\n",
              "  text-decoration: none;\n",
              "}\n",
              "\n",
              "/* Span, style for the box shown on hovering the info icon */\n",
              ".sk-estimator-doc-link span {\n",
              "  display: none;\n",
              "  z-index: 9999;\n",
              "  position: relative;\n",
              "  font-weight: normal;\n",
              "  right: .2ex;\n",
              "  padding: .5ex;\n",
              "  margin: .5ex;\n",
              "  width: min-content;\n",
              "  min-width: 20ex;\n",
              "  max-width: 50ex;\n",
              "  color: var(--sklearn-color-text);\n",
              "  box-shadow: 2pt 2pt 4pt #999;\n",
              "  /* unfitted */\n",
              "  background: var(--sklearn-color-unfitted-level-0);\n",
              "  border: .5pt solid var(--sklearn-color-unfitted-level-3);\n",
              "}\n",
              "\n",
              ".sk-estimator-doc-link.fitted span {\n",
              "  /* fitted */\n",
              "  background: var(--sklearn-color-fitted-level-0);\n",
              "  border: var(--sklearn-color-fitted-level-3);\n",
              "}\n",
              "\n",
              ".sk-estimator-doc-link:hover span {\n",
              "  display: block;\n",
              "}\n",
              "\n",
              "/* \"?\"-specific style due to the `<a>` HTML tag */\n",
              "\n",
              "#sk-container-id-2 a.estimator_doc_link {\n",
              "  float: right;\n",
              "  font-size: 1rem;\n",
              "  line-height: 1em;\n",
              "  font-family: monospace;\n",
              "  background-color: var(--sklearn-color-background);\n",
              "  border-radius: 1rem;\n",
              "  height: 1rem;\n",
              "  width: 1rem;\n",
              "  text-decoration: none;\n",
              "  /* unfitted */\n",
              "  color: var(--sklearn-color-unfitted-level-1);\n",
              "  border: var(--sklearn-color-unfitted-level-1) 1pt solid;\n",
              "}\n",
              "\n",
              "#sk-container-id-2 a.estimator_doc_link.fitted {\n",
              "  /* fitted */\n",
              "  border: var(--sklearn-color-fitted-level-1) 1pt solid;\n",
              "  color: var(--sklearn-color-fitted-level-1);\n",
              "}\n",
              "\n",
              "/* On hover */\n",
              "#sk-container-id-2 a.estimator_doc_link:hover {\n",
              "  /* unfitted */\n",
              "  background-color: var(--sklearn-color-unfitted-level-3);\n",
              "  color: var(--sklearn-color-background);\n",
              "  text-decoration: none;\n",
              "}\n",
              "\n",
              "#sk-container-id-2 a.estimator_doc_link.fitted:hover {\n",
              "  /* fitted */\n",
              "  background-color: var(--sklearn-color-fitted-level-3);\n",
              "}\n",
              "</style><div id=\"sk-container-id-2\" class=\"sk-top-container\"><div class=\"sk-text-repr-fallback\"><pre>GridSearchCV(cv=KFold(n_splits=10, random_state=0, shuffle=True),\n",
              "             estimator=DecisionTreeClassifier(random_state=0),\n",
              "             param_grid={&#x27;criterion&#x27;: [&#x27;gini&#x27;, &#x27;entropy&#x27;],\n",
              "                         &#x27;max_depth&#x27;: [4, 6, 8, 10, 20]})</pre><b>In a Jupyter environment, please rerun this cell to show the HTML representation or trust the notebook. <br />On GitHub, the HTML representation is unable to render, please try loading this page with nbviewer.org.</b></div><div class=\"sk-container\" hidden><div class=\"sk-item sk-dashed-wrapped\"><div class=\"sk-label-container\"><div class=\"sk-label fitted sk-toggleable\"><input class=\"sk-toggleable__control sk-hidden--visually\" id=\"sk-estimator-id-2\" type=\"checkbox\" ><label for=\"sk-estimator-id-2\" class=\"sk-toggleable__label fitted sk-toggleable__label-arrow fitted\">&nbsp;&nbsp;GridSearchCV<a class=\"sk-estimator-doc-link fitted\" rel=\"noreferrer\" target=\"_blank\" href=\"https://scikit-learn.org/1.5/modules/generated/sklearn.model_selection.GridSearchCV.html\">?<span>Documentation for GridSearchCV</span></a><span class=\"sk-estimator-doc-link fitted\">i<span>Fitted</span></span></label><div class=\"sk-toggleable__content fitted\"><pre>GridSearchCV(cv=KFold(n_splits=10, random_state=0, shuffle=True),\n",
              "             estimator=DecisionTreeClassifier(random_state=0),\n",
              "             param_grid={&#x27;criterion&#x27;: [&#x27;gini&#x27;, &#x27;entropy&#x27;],\n",
              "                         &#x27;max_depth&#x27;: [4, 6, 8, 10, 20]})</pre></div> </div></div><div class=\"sk-parallel\"><div class=\"sk-parallel-item\"><div class=\"sk-item\"><div class=\"sk-label-container\"><div class=\"sk-label fitted sk-toggleable\"><input class=\"sk-toggleable__control sk-hidden--visually\" id=\"sk-estimator-id-3\" type=\"checkbox\" ><label for=\"sk-estimator-id-3\" class=\"sk-toggleable__label fitted sk-toggleable__label-arrow fitted\">best_estimator_: DecisionTreeClassifier</label><div class=\"sk-toggleable__content fitted\"><pre>DecisionTreeClassifier(criterion=&#x27;entropy&#x27;, max_depth=6, random_state=0)</pre></div> </div></div><div class=\"sk-serial\"><div class=\"sk-item\"><div class=\"sk-estimator fitted sk-toggleable\"><input class=\"sk-toggleable__control sk-hidden--visually\" id=\"sk-estimator-id-4\" type=\"checkbox\" ><label for=\"sk-estimator-id-4\" class=\"sk-toggleable__label fitted sk-toggleable__label-arrow fitted\">&nbsp;DecisionTreeClassifier<a class=\"sk-estimator-doc-link fitted\" rel=\"noreferrer\" target=\"_blank\" href=\"https://scikit-learn.org/1.5/modules/generated/sklearn.tree.DecisionTreeClassifier.html\">?<span>Documentation for DecisionTreeClassifier</span></a></label><div class=\"sk-toggleable__content fitted\"><pre>DecisionTreeClassifier(criterion=&#x27;entropy&#x27;, max_depth=6, random_state=0)</pre></div> </div></div></div></div></div></div></div></div></div>"
            ],
            "text/plain": [
              "GridSearchCV(cv=KFold(n_splits=10, random_state=0, shuffle=True),\n",
              "             estimator=DecisionTreeClassifier(random_state=0),\n",
              "             param_grid={'criterion': ['gini', 'entropy'],\n",
              "                         'max_depth': [4, 6, 8, 10, 20]})"
            ]
          },
          "execution_count": 51,
          "metadata": {},
          "output_type": "execute_result"
        }
      ],
      "source": [
        "# Ahora utilizamos GridSearch sobre el grid definido y con 10 particiones en la validación cruzada.\n",
        "mejor_modelo = GridSearchCV(arbol, param_grid, cv=particiones)\n",
        "# Ajuste del modelo\n",
        "mejor_modelo.fit(X_train, Y_train)"
      ]
    },
    {
      "cell_type": "code",
      "execution_count": 52,
      "metadata": {
        "colab": {
          "base_uri": "https://localhost:8080/"
        },
        "id": "EvBjkJzQszce",
        "outputId": "977cd0a8-443c-4c2e-e582-dcfacce339d7"
      },
      "outputs": [
        {
          "data": {
            "text/plain": [
              "{'criterion': 'entropy', 'max_depth': 6}"
            ]
          },
          "execution_count": 52,
          "metadata": {},
          "output_type": "execute_result"
        }
      ],
      "source": [
        "# Podemos ver cuál fue el resultado de la búsqueda (mejores valores de hiperparámetros)\n",
        "mejor_modelo.best_params_"
      ]
    },
    {
      "cell_type": "code",
      "execution_count": 53,
      "metadata": {
        "colab": {
          "base_uri": "https://localhost:8080/"
        },
        "id": "40s_wyDDszce",
        "outputId": "ba968c75-5a25-4dd9-aa60-2ac3815e0b99"
      },
      "outputs": [
        {
          "name": "stdout",
          "output_type": "stream",
          "text": [
            "Exactitud sobre entrenamiento: 0.91\n",
            "Exactitud sobre test: 0.80\n"
          ]
        }
      ],
      "source": [
        "# Obtener el mejor modelo.\n",
        "arbol_final = mejor_modelo.best_estimator_\n",
        "# Probemos ahora este modelo sobre test.\n",
        "y_pred_train = arbol_final.predict(X_train)\n",
        "y_pred_test = arbol_final.predict(X_test)\n",
        "print('Exactitud sobre entrenamiento: %.2f' % accuracy_score(Y_train, y_pred_train))\n",
        "print('Exactitud sobre test: %.2f' % accuracy_score(Y_test, y_pred_test))"
      ]
    },
    {
      "cell_type": "code",
      "execution_count": 54,
      "metadata": {
        "colab": {
          "base_uri": "https://localhost:8080/"
        },
        "id": "gOxQqW7zszce",
        "outputId": "b04b1370-2d9f-4246-c370-15b29b748266"
      },
      "outputs": [
        {
          "name": "stdout",
          "output_type": "stream",
          "text": [
            "              precision    recall  f1-score   support\n",
            "\n",
            "           0       0.86      0.92      0.89       245\n",
            "           1       0.35      0.22      0.28        49\n",
            "\n",
            "    accuracy                           0.80       294\n",
            "   macro avg       0.61      0.57      0.58       294\n",
            "weighted avg       0.77      0.80      0.78       294\n",
            "\n"
          ]
        }
      ],
      "source": [
        "print(classification_report(Y_test, y_pred_test))"
      ]
    },
    {
      "cell_type": "markdown",
      "metadata": {
        "id": "8fcb2pNzszce"
      },
      "source": [
        "¿Qué puede estar pasando? ¿Crees que el desbalance de las clases puede afectar los resultados?"
      ]
    },
    {
      "cell_type": "markdown",
      "metadata": {
        "id": "9C81Ruc914gi"
      },
      "source": [
        "#7. Modelo con KNN"
      ]
    },
    {
      "cell_type": "code",
      "execution_count": 71,
      "metadata": {},
      "outputs": [
        {
          "name": "stdout",
          "output_type": "stream",
          "text": [
            "Resultados con StandardScaler:\n",
            "Accuracy: 0.8605442176870748\n",
            "Classification Report:\n",
            "              precision    recall  f1-score   support\n",
            "\n",
            "           0       0.87      0.98      0.92       255\n",
            "           1       0.38      0.08      0.13        39\n",
            "\n",
            "    accuracy                           0.86       294\n",
            "   macro avg       0.62      0.53      0.53       294\n",
            "weighted avg       0.81      0.86      0.82       294\n",
            "\n",
            "Resultados con MinMaxScaler:\n",
            "Accuracy: 0.8469387755102041\n",
            "Classification Report:\n",
            "              precision    recall  f1-score   support\n",
            "\n",
            "           0       0.87      0.96      0.92       255\n",
            "           1       0.25      0.08      0.12        39\n",
            "\n",
            "    accuracy                           0.85       294\n",
            "   macro avg       0.56      0.52      0.52       294\n",
            "weighted avg       0.79      0.85      0.81       294\n",
            "\n"
          ]
        }
      ],
      "source": [
        "import pandas as pd\n",
        "from sklearn.preprocessing import StandardScaler, MinMaxScaler\n",
        "from sklearn.model_selection import train_test_split\n",
        "from sklearn.neighbors import KNeighborsClassifier\n",
        "from sklearn.pipeline import Pipeline\n",
        "from sklearn.metrics import accuracy_score, classification_report\n",
        "\n",
        "# Asumiendo que data_filtrado ya está definido\n",
        "data_filtrado = data_t.copy()\n",
        "\n",
        "# Renombrar las columnas\n",
        "data_filtrado.rename(columns={\n",
        "    'Distancia_desde_casa': 'Distacia_desde_casa',\n",
        "    'No_compañías_anteriores': 'No_Compañías_anteriores'\n",
        "}, inplace=True)\n",
        "\n",
        "# Identificar las columnas numéricas\n",
        "numeric_columns = [\n",
        "    'Edad', 'Distacia_desde_casa', 'Satisfacción_ambiente', 'Nivel_trabajo',\n",
        "    'Salario_mensual', 'No_Compañías_anteriores', 'Satisfacción_relaciones',\n",
        "    'Años_trabajo', 'Antigüedad', 'Años_cargo_actual', 'Última_promoción', 'Años_manager_actual'\n",
        "]\n",
        "\n",
        "# Identificar las columnas dummy\n",
        "dummy_columns = [\n",
        "    'Viaje_negocio_Frecuentemente', 'Viaje_negocio_No-viaja', 'Viaje_negocio_Ocasional',\n",
        "    'Género_Femenino', 'Género_Masculino',\n",
        "    'Estatus_marital_Casado', 'Estatus_marital_Divorciado', 'Estatus_marital_Soltero',\n",
        "    'Sobretiempo_NO', 'Sobretiempo_SI'\n",
        "]\n",
        "\n",
        "# Definir las características (X) y la variable objetivo (y)\n",
        "X = data_filtrado[numeric_columns + dummy_columns]\n",
        "y = data_filtrado['Renuncia'].astype(int)\n",
        "\n",
        "# Crear los preprocesadores para las columnas numéricas\n",
        "standard_scaler = StandardScaler()\n",
        "minmax_scaler = MinMaxScaler()\n",
        "\n",
        "# Crear los pipelines con los preprocesadores y el modelo KNN\n",
        "pipeline_standard = Pipeline(steps=[\n",
        "    ('preprocessor', standard_scaler),\n",
        "    ('classifier', KNeighborsClassifier(n_neighbors=5))\n",
        "])\n",
        "\n",
        "pipeline_minmax = Pipeline(steps=[\n",
        "    ('preprocessor', minmax_scaler),\n",
        "    ('classifier', KNeighborsClassifier(n_neighbors=5))\n",
        "])\n",
        "\n",
        "# Dividir los datos en conjuntos de entrenamiento y prueba\n",
        "X_train, X_test, y_train, y_test = train_test_split(X, y, test_size=0.2, random_state=42)\n",
        "\n",
        "# Entrenar el modelo KNN con StandardScaler\n",
        "pipeline_standard.fit(X_train, y_train)\n",
        "\n",
        "# Predecir en el conjunto de prueba con StandardScaler\n",
        "y_pred_standard = pipeline_standard.predict(X_test)\n",
        "\n",
        "# Evaluar el modelo con StandardScaler\n",
        "accuracy_standard = accuracy_score(y_test, y_pred_standard)\n",
        "report_standard = classification_report(y_test, y_pred_standard)\n",
        "\n",
        "print(\"Resultados con StandardScaler:\")\n",
        "print(f\"Accuracy: {accuracy_standard}\")\n",
        "print(\"Classification Report:\")\n",
        "print(report_standard)\n",
        "\n",
        "# Entrenar el modelo KNN con MinMaxScaler\n",
        "pipeline_minmax.fit(X_train, y_train)\n",
        "\n",
        "# Predecir en el conjunto de prueba con MinMaxScaler\n",
        "y_pred_minmax = pipeline_minmax.predict(X_test)\n",
        "\n",
        "# Evaluar el modelo con MinMaxScaler\n",
        "accuracy_minmax = accuracy_score(y_test, y_pred_minmax)\n",
        "report_minmax = classification_report(y_test, y_pred_minmax)\n",
        "\n",
        "print(\"Resultados con MinMaxScaler:\")\n",
        "print(f\"Accuracy: {accuracy_minmax}\")\n",
        "print(\"Classification Report:\")\n",
        "print(report_minmax)"
      ]
    }
  ],
  "metadata": {
    "colab": {
      "provenance": [],
      "toc_visible": true
    },
    "kernelspec": {
      "display_name": "Python 3",
      "language": "python",
      "name": "python3"
    },
    "language_info": {
      "codemirror_mode": {
        "name": "ipython",
        "version": 3
      },
      "file_extension": ".py",
      "mimetype": "text/x-python",
      "name": "python",
      "nbconvert_exporter": "python",
      "pygments_lexer": "ipython3",
      "version": "3.12.1"
    }
  },
  "nbformat": 4,
  "nbformat_minor": 0
}
